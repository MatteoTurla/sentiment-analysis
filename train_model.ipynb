{
 "cells": [
  {
   "cell_type": "code",
   "execution_count": 1,
   "metadata": {},
   "outputs": [],
   "source": [
    "import pandas as pd\n",
    "from distill_bert import DistillBert\n",
    "from classifier import SentimentClassifier\n",
    "from pathlib import Path\n",
    "\n",
    "import warnings\n",
    "\n",
    "warnings.filterwarnings(\"ignore\")"
   ]
  },
  {
   "cell_type": "code",
   "execution_count": 2,
   "metadata": {},
   "outputs": [],
   "source": [
    "df = pd.read_csv('emobank.csv')"
   ]
  },
  {
   "cell_type": "code",
   "execution_count": 3,
   "metadata": {},
   "outputs": [
    {
     "data": {
      "text/html": [
       "<div>\n",
       "<style scoped>\n",
       "    .dataframe tbody tr th:only-of-type {\n",
       "        vertical-align: middle;\n",
       "    }\n",
       "\n",
       "    .dataframe tbody tr th {\n",
       "        vertical-align: top;\n",
       "    }\n",
       "\n",
       "    .dataframe thead th {\n",
       "        text-align: right;\n",
       "    }\n",
       "</style>\n",
       "<table border=\"1\" class=\"dataframe\">\n",
       "  <thead>\n",
       "    <tr style=\"text-align: right;\">\n",
       "      <th></th>\n",
       "      <th>id</th>\n",
       "      <th>split</th>\n",
       "      <th>V</th>\n",
       "      <th>A</th>\n",
       "      <th>D</th>\n",
       "      <th>text</th>\n",
       "    </tr>\n",
       "  </thead>\n",
       "  <tbody>\n",
       "    <tr>\n",
       "      <th>0</th>\n",
       "      <td>110CYL068_1036_1079</td>\n",
       "      <td>train</td>\n",
       "      <td>3.00</td>\n",
       "      <td>3.00</td>\n",
       "      <td>3.20</td>\n",
       "      <td>Remember what she said in my last letter? \"</td>\n",
       "    </tr>\n",
       "    <tr>\n",
       "      <th>1</th>\n",
       "      <td>110CYL068_1079_1110</td>\n",
       "      <td>test</td>\n",
       "      <td>2.80</td>\n",
       "      <td>3.10</td>\n",
       "      <td>2.80</td>\n",
       "      <td>If I wasn't working here.</td>\n",
       "    </tr>\n",
       "    <tr>\n",
       "      <th>2</th>\n",
       "      <td>110CYL068_1127_1130</td>\n",
       "      <td>train</td>\n",
       "      <td>3.00</td>\n",
       "      <td>3.00</td>\n",
       "      <td>3.00</td>\n",
       "      <td>..\"</td>\n",
       "    </tr>\n",
       "    <tr>\n",
       "      <th>3</th>\n",
       "      <td>110CYL068_1137_1188</td>\n",
       "      <td>train</td>\n",
       "      <td>3.44</td>\n",
       "      <td>3.00</td>\n",
       "      <td>3.22</td>\n",
       "      <td>Goodwill helps people get off of public assist...</td>\n",
       "    </tr>\n",
       "    <tr>\n",
       "      <th>4</th>\n",
       "      <td>110CYL068_1189_1328</td>\n",
       "      <td>train</td>\n",
       "      <td>3.55</td>\n",
       "      <td>3.27</td>\n",
       "      <td>3.46</td>\n",
       "      <td>Sherry learned through our Future Works class ...</td>\n",
       "    </tr>\n",
       "  </tbody>\n",
       "</table>\n",
       "</div>"
      ],
      "text/plain": [
       "                    id  split     V     A     D  \\\n",
       "0  110CYL068_1036_1079  train  3.00  3.00  3.20   \n",
       "1  110CYL068_1079_1110   test  2.80  3.10  2.80   \n",
       "2  110CYL068_1127_1130  train  3.00  3.00  3.00   \n",
       "3  110CYL068_1137_1188  train  3.44  3.00  3.22   \n",
       "4  110CYL068_1189_1328  train  3.55  3.27  3.46   \n",
       "\n",
       "                                                text  \n",
       "0        Remember what she said in my last letter? \"  \n",
       "1                          If I wasn't working here.  \n",
       "2                                                ..\"  \n",
       "3  Goodwill helps people get off of public assist...  \n",
       "4  Sherry learned through our Future Works class ...  "
      ]
     },
     "execution_count": 3,
     "metadata": {},
     "output_type": "execute_result"
    }
   ],
   "source": [
    "df.head()"
   ]
  },
  {
   "cell_type": "code",
   "execution_count": 50,
   "metadata": {},
   "outputs": [
    {
     "data": {
      "text/html": [
       "<div>\n",
       "<style scoped>\n",
       "    .dataframe tbody tr th:only-of-type {\n",
       "        vertical-align: middle;\n",
       "    }\n",
       "\n",
       "    .dataframe tbody tr th {\n",
       "        vertical-align: top;\n",
       "    }\n",
       "\n",
       "    .dataframe thead th {\n",
       "        text-align: right;\n",
       "    }\n",
       "</style>\n",
       "<table border=\"1\" class=\"dataframe\">\n",
       "  <thead>\n",
       "    <tr style=\"text-align: right;\">\n",
       "      <th></th>\n",
       "      <th>id</th>\n",
       "      <th>split</th>\n",
       "      <th>V</th>\n",
       "      <th>A</th>\n",
       "      <th>D</th>\n",
       "      <th>text</th>\n",
       "    </tr>\n",
       "  </thead>\n",
       "  <tbody>\n",
       "    <tr>\n",
       "      <th>7787</th>\n",
       "      <td>captured_moments_28728_28752</td>\n",
       "      <td>train</td>\n",
       "      <td>4.3</td>\n",
       "      <td>4.4</td>\n",
       "      <td>3.4</td>\n",
       "      <td>god yes yes yes</td>\n",
       "    </tr>\n",
       "    <tr>\n",
       "      <th>7949</th>\n",
       "      <td>captured_moments_5506_5538</td>\n",
       "      <td>train</td>\n",
       "      <td>1.3</td>\n",
       "      <td>4.4</td>\n",
       "      <td>3.5</td>\n",
       "      <td>hate despise abhor</td>\n",
       "    </tr>\n",
       "    <tr>\n",
       "      <th>8269</th>\n",
       "      <td>detroit_4401_4433</td>\n",
       "      <td>train</td>\n",
       "      <td>2.5</td>\n",
       "      <td>4.4</td>\n",
       "      <td>3.5</td>\n",
       "      <td>detroit police watching</td>\n",
       "    </tr>\n",
       "  </tbody>\n",
       "</table>\n",
       "</div>"
      ],
      "text/plain": [
       "                                id  split    V    A    D  \\\n",
       "7787  captured_moments_28728_28752  train  4.3  4.4  3.4   \n",
       "7949    captured_moments_5506_5538  train  1.3  4.4  3.5   \n",
       "8269             detroit_4401_4433  train  2.5  4.4  3.5   \n",
       "\n",
       "                         text  \n",
       "7787          god yes yes yes  \n",
       "7949       hate despise abhor  \n",
       "8269  detroit police watching  "
      ]
     },
     "execution_count": 50,
     "metadata": {},
     "output_type": "execute_result"
    }
   ],
   "source": [
    "df.sort_values(by='A', ascending=False).head(3)"
   ]
  },
  {
   "cell_type": "code",
   "execution_count": 11,
   "metadata": {},
   "outputs": [
    {
     "data": {
      "text/plain": [
       "Text(0, 0.5, 'frequency')"
      ]
     },
     "execution_count": 11,
     "metadata": {},
     "output_type": "execute_result"
    },
    {
     "data": {
      "image/png": "[encoded data removed]",
      "text/plain": [
       "<Figure size 432x288 with 1 Axes>"
      ]
     },
     "metadata": {
      "needs_background": "light"
     },
     "output_type": "display_data"
    }
   ],
   "source": [
    "import matplotlib.pyplot as plt\n",
    "df.text.apply(len).hist()\n",
    "plt.title('Text lenght distribution')\n",
    "plt.xlabel('length')\n",
    "plt.ylabel('frequency')"
   ]
  },
  {
   "cell_type": "code",
   "execution_count": 32,
   "metadata": {},
   "outputs": [
    {
     "data": {
      "text/plain": [
       "Text(0.5, 0.98, 'Target density distribution')"
      ]
     },
     "execution_count": 32,
     "metadata": {},
     "output_type": "execute_result"
    },
    {
     "data": {
      "image/png": "[encoded data removed]",
      "text/plain": [
       "<Figure size 1080x288 with 3 Axes>"
      ]
     },
     "metadata": {
      "needs_background": "light"
     },
     "output_type": "display_data"
    }
   ],
   "source": [
    "fig, (ax1, ax2, ax3) = plt.subplots(nrows=1, ncols=3, figsize=[15, 4])\n",
    "df.V.plot.density(ax=ax1)\n",
    "df.A.plot.density(ax=ax2)\n",
    "df.D.plot.density(ax=ax3)\n",
    "ax1.set_xlabel('score')\n",
    "ax1.set_title('Valance')\n",
    "ax2.set_xlabel('score')\n",
    "ax2.set_title('Arousal')\n",
    "ax3.set_xlabel('score')\n",
    "ax3.set_title('Dominance')\n",
    "fig.suptitle('Target density distribution')"
   ]
  },
  {
   "cell_type": "code",
   "execution_count": 4,
   "metadata": {},
   "outputs": [
    {
     "name": "stderr",
     "output_type": "stream",
     "text": [
      "Some weights of the model checkpoint at distilbert-base-uncased were not used when initializing DistilBertModel: ['vocab_transform.weight', 'vocab_projector.weight', 'vocab_layer_norm.bias', 'vocab_projector.bias', 'vocab_transform.bias', 'vocab_layer_norm.weight']\n",
      "- This IS expected if you are initializing DistilBertModel from the checkpoint of a model trained on another task or with another architecture (e.g. initializing a BertForSequenceClassification model from a BertForPreTraining model).\n",
      "- This IS NOT expected if you are initializing DistilBertModel from the checkpoint of a model that you expect to be exactly identical (initializing a BertForSequenceClassification model from a BertForSequenceClassification model).\n"
     ]
    }
   ],
   "source": [
    "db = DistillBert()"
   ]
  },
  {
   "cell_type": "code",
   "execution_count": 5,
   "metadata": {},
   "outputs": [
    {
     "name": "stdout",
     "output_type": "stream",
     "text": [
      "batch number 0 out of 19 done!\n",
      "batch number 1 out of 19 done!\n",
      "batch number 2 out of 19 done!\n",
      "batch number 3 out of 19 done!\n",
      "batch number 4 out of 19 done!\n",
      "batch number 5 out of 19 done!\n",
      "batch number 6 out of 19 done!\n",
      "batch number 7 out of 19 done!\n",
      "batch number 8 out of 19 done!\n",
      "batch number 9 out of 19 done!\n",
      "batch number 10 out of 19 done!\n",
      "batch number 11 out of 19 done!\n",
      "batch number 12 out of 19 done!\n",
      "batch number 13 out of 19 done!\n",
      "batch number 14 out of 19 done!\n",
      "batch number 15 out of 19 done!\n",
      "batch number 16 out of 19 done!\n",
      "batch number 17 out of 19 done!\n",
      "batch number 18 out of 19 done!\n",
      "batch number 19 out of 19 done!\n"
     ]
    }
   ],
   "source": [
    "f = db.transform(df,  batch_size=512)"
   ]
  },
  {
   "cell_type": "code",
   "execution_count": 6,
   "metadata": {},
   "outputs": [
    {
     "name": "stderr",
     "output_type": "stream",
     "text": [
      "feature_fraction, val_score: inf:   0%|          | 0/7 [00:00<?, ?it/s]"
     ]
    },
    {
     "name": "stdout",
     "output_type": "stream",
     "text": [
      "Training until validation scores don't improve for 50 rounds\n",
      "[100]\tcv_agg's l2: 0.0586605 + 0.00549028\n"
     ]
    },
    {
     "name": "stderr",
     "output_type": "stream",
     "text": [
      "feature_fraction, val_score: 0.058326:  14%|#4        | 1/7 [00:04<00:26,  4.46s/it]"
     ]
    },
    {
     "name": "stdout",
     "output_type": "stream",
     "text": [
      "Early stopping, best iteration is:\n",
      "[66]\tcv_agg's l2: 0.0583258 + 0.0054019\n",
      "[100]\tcv_agg's l2: 0.0595625 + 0.00492091\n"
     ]
    },
    {
     "name": "stderr",
     "output_type": "stream",
     "text": [
      "feature_fraction, val_score: 0.058326:  29%|##8       | 2/7 [00:13<00:35,  7.11s/it]"
     ]
    },
    {
     "name": "stdout",
     "output_type": "stream",
     "text": [
      "Early stopping, best iteration is:\n",
      "[66]\tcv_agg's l2: 0.0583258 + 0.0054019\n",
      "[100]\tcv_agg's l2: 0.0590869 + 0.00553949\n"
     ]
    },
    {
     "name": "stderr",
     "output_type": "stream",
     "text": [
      "feature_fraction, val_score: 0.058326:  43%|####2     | 3/7 [00:21<00:30,  7.68s/it]"
     ]
    },
    {
     "name": "stdout",
     "output_type": "stream",
     "text": [
      "Early stopping, best iteration is:\n",
      "[66]\tcv_agg's l2: 0.0583258 + 0.0054019\n",
      "[100]\tcv_agg's l2: 0.0589858 + 0.00575234\n"
     ]
    },
    {
     "name": "stderr",
     "output_type": "stream",
     "text": [
      "feature_fraction, val_score: 0.058326:  57%|#####7    | 4/7 [00:29<00:22,  7.55s/it]"
     ]
    },
    {
     "name": "stdout",
     "output_type": "stream",
     "text": [
      "Early stopping, best iteration is:\n",
      "[66]\tcv_agg's l2: 0.0583258 + 0.0054019\n",
      "[100]\tcv_agg's l2: 0.0594114 + 0.00557699\n"
     ]
    },
    {
     "name": "stderr",
     "output_type": "stream",
     "text": [
      "feature_fraction, val_score: 0.058326:  71%|#######1  | 5/7 [00:35<00:14,  7.12s/it]"
     ]
    },
    {
     "name": "stdout",
     "output_type": "stream",
     "text": [
      "Early stopping, best iteration is:\n",
      "[66]\tcv_agg's l2: 0.0583258 + 0.0054019\n",
      "[100]\tcv_agg's l2: 0.0588428 + 0.00573237\n"
     ]
    },
    {
     "name": "stderr",
     "output_type": "stream",
     "text": [
      "feature_fraction, val_score: 0.058326:  86%|########5 | 6/7 [00:45<00:07,  7.97s/it]"
     ]
    },
    {
     "name": "stdout",
     "output_type": "stream",
     "text": [
      "Early stopping, best iteration is:\n",
      "[66]\tcv_agg's l2: 0.0583258 + 0.0054019\n",
      "[100]\tcv_agg's l2: 0.0587645 + 0.00572695\n"
     ]
    },
    {
     "name": "stderr",
     "output_type": "stream",
     "text": [
      "feature_fraction, val_score: 0.058326: 100%|##########| 7/7 [00:51<00:00,  7.33s/it]\n",
      "num_leaves, val_score: 0.058326:   0%|          | 0/20 [00:00<?, ?it/s]"
     ]
    },
    {
     "name": "stdout",
     "output_type": "stream",
     "text": [
      "Early stopping, best iteration is:\n",
      "[66]\tcv_agg's l2: 0.0583258 + 0.0054019\n",
      "[100]\tcv_agg's l2: 0.0607752 + 0.00573076\n"
     ]
    },
    {
     "name": "stderr",
     "output_type": "stream",
     "text": [
      "num_leaves, val_score: 0.058326:   5%|5         | 1/20 [00:25<07:58, 25.20s/it]"
     ]
    },
    {
     "name": "stdout",
     "output_type": "stream",
     "text": [
      "Early stopping, best iteration is:\n",
      "[66]\tcv_agg's l2: 0.0583258 + 0.0054019\n"
     ]
    },
    {
     "name": "stderr",
     "output_type": "stream",
     "text": [
      "\r",
      "num_leaves, val_score: 0.058326:   5%|5         | 1/20 [00:25<07:58, 25.20s/it]"
     ]
    },
    {
     "name": "stdout",
     "output_type": "stream",
     "text": [
      "[100]\tcv_agg's l2: 0.0603124 + 0.00621841\n"
     ]
    },
    {
     "name": "stderr",
     "output_type": "stream",
     "text": [
      "num_leaves, val_score: 0.058326:  10%|#         | 2/20 [00:37<05:20, 17.80s/it]"
     ]
    },
    {
     "name": "stdout",
     "output_type": "stream",
     "text": [
      "Early stopping, best iteration is:\n",
      "[66]\tcv_agg's l2: 0.0583258 + 0.0054019\n",
      "[100]\tcv_agg's l2: 0.0592266 + 0.00574937\n"
     ]
    },
    {
     "name": "stderr",
     "output_type": "stream",
     "text": [
      "num_leaves, val_score: 0.058326:  15%|#5        | 3/20 [00:43<03:27, 12.23s/it]"
     ]
    },
    {
     "name": "stdout",
     "output_type": "stream",
     "text": [
      "Early stopping, best iteration is:\n",
      "[66]\tcv_agg's l2: 0.0583258 + 0.0054019\n",
      "[100]\tcv_agg's l2: 0.0602489 + 0.0060357\n"
     ]
    },
    {
     "name": "stderr",
     "output_type": "stream",
     "text": [
      "num_leaves, val_score: 0.058326:  20%|##        | 4/20 [01:00<03:41, 13.87s/it]"
     ]
    },
    {
     "name": "stdout",
     "output_type": "stream",
     "text": [
      "Early stopping, best iteration is:\n",
      "[66]\tcv_agg's l2: 0.0583258 + 0.0054019\n",
      "[100]\tcv_agg's l2: 0.0602815 + 0.00580232\n"
     ]
    },
    {
     "name": "stderr",
     "output_type": "stream",
     "text": [
      "num_leaves, val_score: 0.058326:  25%|##5       | 5/20 [01:18<03:52, 15.52s/it]"
     ]
    },
    {
     "name": "stdout",
     "output_type": "stream",
     "text": [
      "Early stopping, best iteration is:\n",
      "[66]\tcv_agg's l2: 0.0583258 + 0.0054019\n"
     ]
    },
    {
     "name": "stderr",
     "output_type": "stream",
     "text": [
      "\r",
      "num_leaves, val_score: 0.058326:  25%|##5       | 5/20 [01:18<03:52, 15.52s/it]"
     ]
    },
    {
     "name": "stdout",
     "output_type": "stream",
     "text": [
      "[100]\tcv_agg's l2: 0.0604463 + 0.00583049\n"
     ]
    },
    {
     "name": "stderr",
     "output_type": "stream",
     "text": [
      "num_leaves, val_score: 0.058326:  30%|###       | 6/20 [01:38<03:57, 16.97s/it]"
     ]
    },
    {
     "name": "stdout",
     "output_type": "stream",
     "text": [
      "Early stopping, best iteration is:\n",
      "[66]\tcv_agg's l2: 0.0583258 + 0.0054019\n"
     ]
    },
    {
     "name": "stderr",
     "output_type": "stream",
     "text": [
      "\r",
      "num_leaves, val_score: 0.058326:  30%|###       | 6/20 [01:38<03:57, 16.97s/it]"
     ]
    },
    {
     "name": "stdout",
     "output_type": "stream",
     "text": [
      "[100]\tcv_agg's l2: 0.0592049 + 0.00585817\n"
     ]
    },
    {
     "name": "stderr",
     "output_type": "stream",
     "text": [
      "num_leaves, val_score: 0.058326:  35%|###5      | 7/20 [01:44<02:54, 13.46s/it]"
     ]
    },
    {
     "name": "stdout",
     "output_type": "stream",
     "text": [
      "Early stopping, best iteration is:\n",
      "[66]\tcv_agg's l2: 0.0583258 + 0.0054019\n",
      "[100]\tcv_agg's l2: 0.0605467 + 0.00587853\n"
     ]
    },
    {
     "name": "stderr",
     "output_type": "stream",
     "text": [
      "num_leaves, val_score: 0.058326:  40%|####      | 8/20 [02:05<03:10, 15.89s/it]"
     ]
    },
    {
     "name": "stdout",
     "output_type": "stream",
     "text": [
      "Early stopping, best iteration is:\n",
      "[66]\tcv_agg's l2: 0.0583258 + 0.0054019\n"
     ]
    },
    {
     "name": "stderr",
     "output_type": "stream",
     "text": [
      "\r",
      "num_leaves, val_score: 0.058326:  40%|####      | 8/20 [02:05<03:10, 15.89s/it]"
     ]
    },
    {
     "name": "stdout",
     "output_type": "stream",
     "text": [
      "[100]\tcv_agg's l2: 0.0602342 + 0.00597841\n"
     ]
    },
    {
     "name": "stderr",
     "output_type": "stream",
     "text": [
      "num_leaves, val_score: 0.058326:  45%|####5     | 9/20 [02:22<03:00, 16.41s/it]"
     ]
    },
    {
     "name": "stdout",
     "output_type": "stream",
     "text": [
      "Early stopping, best iteration is:\n",
      "[66]\tcv_agg's l2: 0.0583258 + 0.0054019\n"
     ]
    },
    {
     "name": "stderr",
     "output_type": "stream",
     "text": [
      "\r",
      "num_leaves, val_score: 0.058326:  45%|####5     | 9/20 [02:23<03:00, 16.41s/it]"
     ]
    },
    {
     "name": "stdout",
     "output_type": "stream",
     "text": [
      "[100]\tcv_agg's l2: 0.0603788 + 0.00557829\n"
     ]
    },
    {
     "name": "stderr",
     "output_type": "stream",
     "text": [
      "num_leaves, val_score: 0.058326:  50%|#####     | 10/20 [02:37<02:37, 15.76s/it]"
     ]
    },
    {
     "name": "stdout",
     "output_type": "stream",
     "text": [
      "Early stopping, best iteration is:\n",
      "[66]\tcv_agg's l2: 0.0583258 + 0.0054019\n"
     ]
    },
    {
     "name": "stderr",
     "output_type": "stream",
     "text": [
      "num_leaves, val_score: 0.058326:  55%|#####5    | 11/20 [02:38<01:42, 11.36s/it]"
     ]
    },
    {
     "name": "stdout",
     "output_type": "stream",
     "text": [
      "[100]\tcv_agg's l2: 0.0593353 + 0.00561765\n",
      "Early stopping, best iteration is:\n",
      "[66]\tcv_agg's l2: 0.0583258 + 0.0054019\n",
      "[100]\tcv_agg's l2: 0.0586901 + 0.00582002\n"
     ]
    },
    {
     "name": "stderr",
     "output_type": "stream",
     "text": [
      "num_leaves, val_score: 0.058326:  60%|######    | 12/20 [02:43<01:14,  9.27s/it]"
     ]
    },
    {
     "name": "stdout",
     "output_type": "stream",
     "text": [
      "Early stopping, best iteration is:\n",
      "[66]\tcv_agg's l2: 0.0583258 + 0.0054019\n",
      "[100]\tcv_agg's l2: 0.0603214 + 0.00591484\n"
     ]
    },
    {
     "name": "stderr",
     "output_type": "stream",
     "text": [
      "num_leaves, val_score: 0.058326:  65%|######5   | 13/20 [02:52<01:04,  9.14s/it]"
     ]
    },
    {
     "name": "stdout",
     "output_type": "stream",
     "text": [
      "Early stopping, best iteration is:\n",
      "[66]\tcv_agg's l2: 0.0583258 + 0.0054019\n",
      "[100]\tcv_agg's l2: 0.0594083 + 0.00552156\n"
     ]
    },
    {
     "name": "stderr",
     "output_type": "stream",
     "text": [
      "num_leaves, val_score: 0.058326:  70%|#######   | 14/20 [02:59<00:51,  8.54s/it]"
     ]
    },
    {
     "name": "stdout",
     "output_type": "stream",
     "text": [
      "Early stopping, best iteration is:\n",
      "[66]\tcv_agg's l2: 0.0583258 + 0.0054019\n",
      "[100]\tcv_agg's l2: 0.0589582 + 0.00563474\n"
     ]
    },
    {
     "name": "stderr",
     "output_type": "stream",
     "text": [
      "num_leaves, val_score: 0.058326:  75%|#######5  | 15/20 [03:03<00:36,  7.32s/it]"
     ]
    },
    {
     "name": "stdout",
     "output_type": "stream",
     "text": [
      "Early stopping, best iteration is:\n",
      "[66]\tcv_agg's l2: 0.0583258 + 0.0054019\n"
     ]
    },
    {
     "name": "stderr",
     "output_type": "stream",
     "text": [
      "num_leaves, val_score: 0.058326:  80%|########  | 16/20 [03:05<00:22,  5.66s/it]"
     ]
    },
    {
     "name": "stdout",
     "output_type": "stream",
     "text": [
      "[100]\tcv_agg's l2: 0.0586213 + 0.00563282\n",
      "Early stopping, best iteration is:\n",
      "[66]\tcv_agg's l2: 0.0583258 + 0.0054019\n",
      "[100]\tcv_agg's l2: 0.0603124 + 0.00621841\n"
     ]
    },
    {
     "name": "stderr",
     "output_type": "stream",
     "text": [
      "num_leaves, val_score: 0.058326:  85%|########5 | 17/20 [03:18<00:23,  7.80s/it]"
     ]
    },
    {
     "name": "stdout",
     "output_type": "stream",
     "text": [
      "Early stopping, best iteration is:\n",
      "[66]\tcv_agg's l2: 0.0583258 + 0.0054019\n",
      "[100]\tcv_agg's l2: 0.059684 + 0.00558256\n"
     ]
    },
    {
     "name": "stderr",
     "output_type": "stream",
     "text": [
      "num_leaves, val_score: 0.058326:  90%|######### | 18/20 [03:25<00:15,  7.65s/it]"
     ]
    },
    {
     "name": "stdout",
     "output_type": "stream",
     "text": [
      "Early stopping, best iteration is:\n",
      "[66]\tcv_agg's l2: 0.0583258 + 0.0054019\n",
      "[100]\tcv_agg's l2: 0.0592452 + 0.00609195\n"
     ]
    },
    {
     "name": "stderr",
     "output_type": "stream",
     "text": [
      "num_leaves, val_score: 0.058326:  95%|#########5| 19/20 [03:30<00:06,  6.78s/it]"
     ]
    },
    {
     "name": "stdout",
     "output_type": "stream",
     "text": [
      "Early stopping, best iteration is:\n",
      "[66]\tcv_agg's l2: 0.0583258 + 0.0054019\n",
      "[100]\tcv_agg's l2: 0.0603214 + 0.00591484\n"
     ]
    },
    {
     "name": "stderr",
     "output_type": "stream",
     "text": [
      "num_leaves, val_score: 0.058326: 100%|##########| 20/20 [03:39<00:00, 10.97s/it]\n",
      "bagging, val_score: 0.058326:   0%|          | 0/10 [00:00<?, ?it/s]"
     ]
    },
    {
     "name": "stdout",
     "output_type": "stream",
     "text": [
      "Early stopping, best iteration is:\n",
      "[66]\tcv_agg's l2: 0.0583258 + 0.0054019\n",
      "[100]\tcv_agg's l2: 0.0600418 + 0.00588595\n"
     ]
    },
    {
     "name": "stderr",
     "output_type": "stream",
     "text": [
      "bagging, val_score: 0.058326:  10%|#         | 1/10 [00:04<00:37,  4.11s/it]"
     ]
    },
    {
     "name": "stdout",
     "output_type": "stream",
     "text": [
      "Early stopping, best iteration is:\n",
      "[66]\tcv_agg's l2: 0.0583258 + 0.0054019\n",
      "[100]\tcv_agg's l2: 0.0610175 + 0.00551746\n"
     ]
    },
    {
     "name": "stderr",
     "output_type": "stream",
     "text": [
      "bagging, val_score: 0.058326:  20%|##        | 2/10 [00:08<00:33,  4.18s/it]"
     ]
    },
    {
     "name": "stdout",
     "output_type": "stream",
     "text": [
      "Early stopping, best iteration is:\n",
      "[66]\tcv_agg's l2: 0.0583258 + 0.0054019\n",
      "[100]\tcv_agg's l2: 0.0605275 + 0.00565256\n"
     ]
    },
    {
     "name": "stderr",
     "output_type": "stream",
     "text": [
      "bagging, val_score: 0.058326:  30%|###       | 3/10 [00:12<00:28,  4.14s/it]"
     ]
    },
    {
     "name": "stdout",
     "output_type": "stream",
     "text": [
      "Early stopping, best iteration is:\n",
      "[66]\tcv_agg's l2: 0.0583258 + 0.0054019\n",
      "[100]\tcv_agg's l2: 0.0603459 + 0.00519786\n"
     ]
    },
    {
     "name": "stderr",
     "output_type": "stream",
     "text": [
      "bagging, val_score: 0.058326:  40%|####      | 4/10 [00:16<00:24,  4.10s/it]"
     ]
    },
    {
     "name": "stdout",
     "output_type": "stream",
     "text": [
      "Early stopping, best iteration is:\n",
      "[66]\tcv_agg's l2: 0.0583258 + 0.0054019\n",
      "[100]\tcv_agg's l2: 0.059916 + 0.00553516\n"
     ]
    },
    {
     "name": "stderr",
     "output_type": "stream",
     "text": [
      "bagging, val_score: 0.058326:  50%|#####     | 5/10 [00:20<00:20,  4.13s/it]"
     ]
    },
    {
     "name": "stdout",
     "output_type": "stream",
     "text": [
      "Early stopping, best iteration is:\n",
      "[66]\tcv_agg's l2: 0.0583258 + 0.0054019\n",
      "[100]\tcv_agg's l2: 0.0619783 + 0.00493018\n"
     ]
    },
    {
     "name": "stderr",
     "output_type": "stream",
     "text": [
      "bagging, val_score: 0.058326:  60%|######    | 6/10 [00:24<00:16,  4.02s/it]"
     ]
    },
    {
     "name": "stdout",
     "output_type": "stream",
     "text": [
      "Early stopping, best iteration is:\n",
      "[66]\tcv_agg's l2: 0.0583258 + 0.0054019\n",
      "[100]\tcv_agg's l2: 0.0594792 + 0.00498951\n"
     ]
    },
    {
     "name": "stderr",
     "output_type": "stream",
     "text": [
      "bagging, val_score: 0.058326:  70%|#######   | 7/10 [00:28<00:12,  4.06s/it]"
     ]
    },
    {
     "name": "stdout",
     "output_type": "stream",
     "text": [
      "Early stopping, best iteration is:\n",
      "[66]\tcv_agg's l2: 0.0583258 + 0.0054019\n",
      "[100]\tcv_agg's l2: 0.0609778 + 0.00566313\n"
     ]
    },
    {
     "name": "stderr",
     "output_type": "stream",
     "text": [
      "bagging, val_score: 0.058326:  80%|########  | 8/10 [00:32<00:08,  4.15s/it]"
     ]
    },
    {
     "name": "stdout",
     "output_type": "stream",
     "text": [
      "Early stopping, best iteration is:\n",
      "[66]\tcv_agg's l2: 0.0583258 + 0.0054019\n",
      "[100]\tcv_agg's l2: 0.0599375 + 0.00574573\n"
     ]
    },
    {
     "name": "stderr",
     "output_type": "stream",
     "text": [
      "bagging, val_score: 0.058326:  90%|######### | 9/10 [00:37<00:04,  4.12s/it]"
     ]
    },
    {
     "name": "stdout",
     "output_type": "stream",
     "text": [
      "Early stopping, best iteration is:\n",
      "[66]\tcv_agg's l2: 0.0583258 + 0.0054019\n",
      "[100]\tcv_agg's l2: 0.059197 + 0.00551898\n"
     ]
    },
    {
     "name": "stderr",
     "output_type": "stream",
     "text": [
      "bagging, val_score: 0.058326: 100%|##########| 10/10 [00:41<00:00,  4.16s/it]\n",
      "feature_fraction_stage2, val_score: 0.058326:   0%|          | 0/3 [00:00<?, ?it/s]"
     ]
    },
    {
     "name": "stdout",
     "output_type": "stream",
     "text": [
      "Early stopping, best iteration is:\n",
      "[66]\tcv_agg's l2: 0.0583258 + 0.0054019\n",
      "[100]\tcv_agg's l2: 0.0589595 + 0.00570884\n"
     ]
    },
    {
     "name": "stderr",
     "output_type": "stream",
     "text": [
      "feature_fraction_stage2, val_score: 0.058326:  33%|###3      | 1/3 [00:05<00:10,  5.41s/it]"
     ]
    },
    {
     "name": "stdout",
     "output_type": "stream",
     "text": [
      "Early stopping, best iteration is:\n",
      "[66]\tcv_agg's l2: 0.0583258 + 0.0054019\n",
      "[100]\tcv_agg's l2: 0.0591541 + 0.00600041\n"
     ]
    },
    {
     "name": "stderr",
     "output_type": "stream",
     "text": [
      "feature_fraction_stage2, val_score: 0.058326:  67%|######6   | 2/3 [00:10<00:05,  5.12s/it]"
     ]
    },
    {
     "name": "stdout",
     "output_type": "stream",
     "text": [
      "Early stopping, best iteration is:\n",
      "[66]\tcv_agg's l2: 0.0583258 + 0.0054019\n",
      "[100]\tcv_agg's l2: 0.0591692 + 0.00536394\n"
     ]
    },
    {
     "name": "stderr",
     "output_type": "stream",
     "text": [
      "feature_fraction_stage2, val_score: 0.058326: 100%|##########| 3/3 [00:14<00:00,  4.96s/it]\n",
      "regularization_factors, val_score: 0.058326:   0%|          | 0/20 [00:00<?, ?it/s]"
     ]
    },
    {
     "name": "stdout",
     "output_type": "stream",
     "text": [
      "Early stopping, best iteration is:\n",
      "[66]\tcv_agg's l2: 0.0583258 + 0.0054019\n",
      "[100]\tcv_agg's l2: 0.0588394 + 0.00540262\n"
     ]
    },
    {
     "name": "stderr",
     "output_type": "stream",
     "text": [
      "regularization_factors, val_score: 0.058326:   5%|5         | 1/20 [00:05<01:45,  5.57s/it]"
     ]
    },
    {
     "name": "stdout",
     "output_type": "stream",
     "text": [
      "Early stopping, best iteration is:\n",
      "[66]\tcv_agg's l2: 0.0583258 + 0.0054019\n",
      "[100]\tcv_agg's l2: 0.0582315 + 0.00563179\n"
     ]
    },
    {
     "name": "stderr",
     "output_type": "stream",
     "text": [
      "regularization_factors, val_score: 0.058125:  10%|#         | 2/20 [00:12<01:50,  6.12s/it]"
     ]
    },
    {
     "name": "stdout",
     "output_type": "stream",
     "text": [
      "Early stopping, best iteration is:\n",
      "[87]\tcv_agg's l2: 0.0581248 + 0.0055512\n",
      "[100]\tcv_agg's l2: 0.0586605 + 0.00549028\n"
     ]
    },
    {
     "name": "stderr",
     "output_type": "stream",
     "text": [
      "regularization_factors, val_score: 0.058125:  15%|#5        | 3/20 [00:18<01:43,  6.10s/it]"
     ]
    },
    {
     "name": "stdout",
     "output_type": "stream",
     "text": [
      "Early stopping, best iteration is:\n",
      "[87]\tcv_agg's l2: 0.0581248 + 0.0055512\n",
      "[100]\tcv_agg's l2: 0.0587713 + 0.00605851\n"
     ]
    },
    {
     "name": "stderr",
     "output_type": "stream",
     "text": [
      "regularization_factors, val_score: 0.058125:  20%|##        | 4/20 [00:24<01:37,  6.12s/it]"
     ]
    },
    {
     "name": "stdout",
     "output_type": "stream",
     "text": [
      "Early stopping, best iteration is:\n",
      "[87]\tcv_agg's l2: 0.0581248 + 0.0055512\n",
      "[100]\tcv_agg's l2: 0.0592534 + 0.0057684\n"
     ]
    },
    {
     "name": "stderr",
     "output_type": "stream",
     "text": [
      "regularization_factors, val_score: 0.058125:  25%|##5       | 5/20 [00:30<01:33,  6.21s/it]"
     ]
    },
    {
     "name": "stdout",
     "output_type": "stream",
     "text": [
      "Early stopping, best iteration is:\n",
      "[87]\tcv_agg's l2: 0.0581248 + 0.0055512\n",
      "[100]\tcv_agg's l2: 0.0581946 + 0.00588892\n"
     ]
    },
    {
     "name": "stderr",
     "output_type": "stream",
     "text": [
      "regularization_factors, val_score: 0.058125:  30%|###       | 6/20 [00:35<01:17,  5.56s/it]"
     ]
    },
    {
     "name": "stdout",
     "output_type": "stream",
     "text": [
      "Early stopping, best iteration is:\n",
      "[87]\tcv_agg's l2: 0.0581248 + 0.0055512\n",
      "[100]\tcv_agg's l2: 0.0591257 + 0.00559636\n"
     ]
    },
    {
     "name": "stderr",
     "output_type": "stream",
     "text": [
      "regularization_factors, val_score: 0.058125:  35%|###5      | 7/20 [00:41<01:15,  5.79s/it]"
     ]
    },
    {
     "name": "stdout",
     "output_type": "stream",
     "text": [
      "Early stopping, best iteration is:\n",
      "[87]\tcv_agg's l2: 0.0581248 + 0.0055512\n",
      "[100]\tcv_agg's l2: 0.0587404 + 0.00564964\n"
     ]
    },
    {
     "name": "stderr",
     "output_type": "stream",
     "text": [
      "regularization_factors, val_score: 0.058125:  40%|####      | 8/20 [00:48<01:14,  6.24s/it]"
     ]
    },
    {
     "name": "stdout",
     "output_type": "stream",
     "text": [
      "Early stopping, best iteration is:\n",
      "[87]\tcv_agg's l2: 0.0581248 + 0.0055512\n",
      "[100]\tcv_agg's l2: 0.0589686 + 0.00533769\n"
     ]
    },
    {
     "name": "stderr",
     "output_type": "stream",
     "text": [
      "regularization_factors, val_score: 0.058125:  45%|####5     | 9/20 [00:55<01:10,  6.44s/it]"
     ]
    },
    {
     "name": "stdout",
     "output_type": "stream",
     "text": [
      "Early stopping, best iteration is:\n",
      "[87]\tcv_agg's l2: 0.0581248 + 0.0055512\n",
      "[100]\tcv_agg's l2: 0.0588828 + 0.00566193\n"
     ]
    },
    {
     "name": "stderr",
     "output_type": "stream",
     "text": [
      "regularization_factors, val_score: 0.058125:  50%|#####     | 10/20 [01:02<01:06,  6.64s/it]"
     ]
    },
    {
     "name": "stdout",
     "output_type": "stream",
     "text": [
      "Early stopping, best iteration is:\n",
      "[87]\tcv_agg's l2: 0.0581248 + 0.0055512\n",
      "[100]\tcv_agg's l2: 0.0586605 + 0.00549028\n"
     ]
    },
    {
     "name": "stderr",
     "output_type": "stream",
     "text": [
      "regularization_factors, val_score: 0.058125:  55%|#####5    | 11/20 [01:09<00:59,  6.66s/it]"
     ]
    },
    {
     "name": "stdout",
     "output_type": "stream",
     "text": [
      "Early stopping, best iteration is:\n",
      "[87]\tcv_agg's l2: 0.0581248 + 0.0055512\n",
      "[100]\tcv_agg's l2: 0.0581591 + 0.00549823\n"
     ]
    },
    {
     "name": "stderr",
     "output_type": "stream",
     "text": [
      "regularization_factors, val_score: 0.058125:  60%|######    | 12/20 [01:13<00:48,  6.08s/it]"
     ]
    },
    {
     "name": "stdout",
     "output_type": "stream",
     "text": [
      "Early stopping, best iteration is:\n",
      "[87]\tcv_agg's l2: 0.0581248 + 0.0055512\n",
      "[100]\tcv_agg's l2: 0.0590961 + 0.00563475\n"
     ]
    },
    {
     "name": "stderr",
     "output_type": "stream",
     "text": [
      "regularization_factors, val_score: 0.058125:  65%|######5   | 13/20 [01:21<00:46,  6.60s/it]"
     ]
    },
    {
     "name": "stdout",
     "output_type": "stream",
     "text": [
      "Early stopping, best iteration is:\n",
      "[87]\tcv_agg's l2: 0.0581248 + 0.0055512\n",
      "[100]\tcv_agg's l2: 0.058785 + 0.00580994\n"
     ]
    },
    {
     "name": "stderr",
     "output_type": "stream",
     "text": [
      "regularization_factors, val_score: 0.058125:  70%|#######   | 14/20 [01:29<00:42,  7.00s/it]"
     ]
    },
    {
     "name": "stdout",
     "output_type": "stream",
     "text": [
      "Early stopping, best iteration is:\n",
      "[87]\tcv_agg's l2: 0.0581248 + 0.0055512\n",
      "[100]\tcv_agg's l2: 0.0588717 + 0.00573712\n"
     ]
    },
    {
     "name": "stderr",
     "output_type": "stream",
     "text": [
      "regularization_factors, val_score: 0.058125:  75%|#######5  | 15/20 [01:36<00:34,  6.83s/it]"
     ]
    },
    {
     "name": "stdout",
     "output_type": "stream",
     "text": [
      "Early stopping, best iteration is:\n",
      "[87]\tcv_agg's l2: 0.0581248 + 0.0055512\n",
      "[100]\tcv_agg's l2: 0.0586605 + 0.00549028\n"
     ]
    },
    {
     "name": "stderr",
     "output_type": "stream",
     "text": [
      "regularization_factors, val_score: 0.058125:  80%|########  | 16/20 [01:41<00:26,  6.54s/it]"
     ]
    },
    {
     "name": "stdout",
     "output_type": "stream",
     "text": [
      "Early stopping, best iteration is:\n",
      "[87]\tcv_agg's l2: 0.0581248 + 0.0055512\n",
      "[100]\tcv_agg's l2: 0.058927 + 0.00587421\n"
     ]
    },
    {
     "name": "stderr",
     "output_type": "stream",
     "text": [
      "regularization_factors, val_score: 0.058125:  85%|########5 | 17/20 [01:48<00:19,  6.60s/it]"
     ]
    },
    {
     "name": "stdout",
     "output_type": "stream",
     "text": [
      "Early stopping, best iteration is:\n",
      "[87]\tcv_agg's l2: 0.0581248 + 0.0055512\n",
      "[100]\tcv_agg's l2: 0.0586702 + 0.00565725\n"
     ]
    },
    {
     "name": "stderr",
     "output_type": "stream",
     "text": [
      "regularization_factors, val_score: 0.058125:  90%|######### | 18/20 [01:54<00:13,  6.50s/it]"
     ]
    },
    {
     "name": "stdout",
     "output_type": "stream",
     "text": [
      "Early stopping, best iteration is:\n",
      "[87]\tcv_agg's l2: 0.0581248 + 0.0055512\n",
      "[100]\tcv_agg's l2: 0.0582989 + 0.00567156\n"
     ]
    },
    {
     "name": "stderr",
     "output_type": "stream",
     "text": [
      "regularization_factors, val_score: 0.058125:  95%|#########5| 19/20 [01:59<00:05,  5.85s/it]"
     ]
    },
    {
     "name": "stdout",
     "output_type": "stream",
     "text": [
      "Early stopping, best iteration is:\n",
      "[87]\tcv_agg's l2: 0.0581248 + 0.0055512\n",
      "[100]\tcv_agg's l2: 0.0586605 + 0.00549028\n"
     ]
    },
    {
     "name": "stderr",
     "output_type": "stream",
     "text": [
      "regularization_factors, val_score: 0.058125: 100%|##########| 20/20 [02:05<00:00,  6.28s/it]\n",
      "min_data_in_leaf, val_score: 0.058125:   0%|          | 0/5 [00:00<?, ?it/s]"
     ]
    },
    {
     "name": "stdout",
     "output_type": "stream",
     "text": [
      "Early stopping, best iteration is:\n",
      "[87]\tcv_agg's l2: 0.0581248 + 0.0055512\n",
      "[100]\tcv_agg's l2: 0.0582997 + 0.00563165\n"
     ]
    },
    {
     "name": "stderr",
     "output_type": "stream",
     "text": [
      "min_data_in_leaf, val_score: 0.058110:  20%|##        | 1/5 [00:05<00:20,  5.16s/it]"
     ]
    },
    {
     "name": "stdout",
     "output_type": "stream",
     "text": [
      "Early stopping, best iteration is:\n",
      "[67]\tcv_agg's l2: 0.0581098 + 0.00560782\n",
      "[100]\tcv_agg's l2: 0.0586681 + 0.00552666\n"
     ]
    },
    {
     "name": "stderr",
     "output_type": "stream",
     "text": [
      "min_data_in_leaf, val_score: 0.058110:  40%|####      | 2/5 [00:10<00:15,  5.27s/it]"
     ]
    },
    {
     "name": "stdout",
     "output_type": "stream",
     "text": [
      "Early stopping, best iteration is:\n",
      "[67]\tcv_agg's l2: 0.0581098 + 0.00560782\n",
      "[100]\tcv_agg's l2: 0.0585985 + 0.00601875\n"
     ]
    },
    {
     "name": "stderr",
     "output_type": "stream",
     "text": [
      "min_data_in_leaf, val_score: 0.058110:  60%|######    | 3/5 [00:16<00:11,  5.66s/it]"
     ]
    },
    {
     "name": "stdout",
     "output_type": "stream",
     "text": [
      "Early stopping, best iteration is:\n",
      "[67]\tcv_agg's l2: 0.0581098 + 0.00560782\n",
      "[100]\tcv_agg's l2: 0.0588652 + 0.00567126\n"
     ]
    },
    {
     "name": "stderr",
     "output_type": "stream",
     "text": [
      "min_data_in_leaf, val_score: 0.058110:  80%|########  | 4/5 [00:21<00:05,  5.20s/it]"
     ]
    },
    {
     "name": "stdout",
     "output_type": "stream",
     "text": [
      "Early stopping, best iteration is:\n",
      "[67]\tcv_agg's l2: 0.0581098 + 0.00560782\n",
      "[100]\tcv_agg's l2: 0.0586281 + 0.00591667\n"
     ]
    },
    {
     "name": "stderr",
     "output_type": "stream",
     "text": [
      "min_data_in_leaf, val_score: 0.058110: 100%|##########| 5/5 [00:27<00:00,  5.43s/it]"
     ]
    },
    {
     "name": "stdout",
     "output_type": "stream",
     "text": [
      "Early stopping, best iteration is:\n",
      "[67]\tcv_agg's l2: 0.0581098 + 0.00560782\n",
      "Best score: 0.05810976555097789\n",
      "Best params: {'objective': 'regression', 'metric': 'l2', 'boosting_type': 'gbdt', 'verbosity': -1, 'feature_pre_filter': False, 'lambda_l1': 1.2945502180019053e-07, 'lambda_l2': 8.665249244045263, 'num_leaves': 31, 'feature_fraction': 0.4, 'bagging_fraction': 1.0, 'bagging_freq': 0, 'min_child_samples': 50}\n",
      "  Params: \n",
      "    objective: regression\n",
      "    metric: l2\n",
      "    boosting_type: gbdt\n",
      "    verbosity: -1\n",
      "    feature_pre_filter: False\n",
      "    lambda_l1: 1.2945502180019053e-07\n",
      "    lambda_l2: 8.665249244045263\n",
      "    num_leaves: 31\n",
      "    feature_fraction: 0.4\n",
      "    bagging_fraction: 1.0\n",
      "    bagging_freq: 0\n",
      "    min_child_samples: 50\n",
      "saving model\n"
     ]
    },
    {
     "name": "stderr",
     "output_type": "stream",
     "text": [
      "\n"
     ]
    }
   ],
   "source": [
    "model_A = SentimentClassifier()\n",
    "model_A.fit(f, df.A.values)\n",
    "model_A.save(Path('boosters')/'A')"
   ]
  },
  {
   "cell_type": "code",
   "execution_count": 7,
   "metadata": {},
   "outputs": [
    {
     "name": "stderr",
     "output_type": "stream",
     "text": [
      "feature_fraction, val_score: inf:   0%|          | 0/7 [00:00<?, ?it/s]"
     ]
    },
    {
     "name": "stdout",
     "output_type": "stream",
     "text": [
      "Training until validation scores don't improve for 50 rounds\n",
      "[100]\tcv_agg's l2: 0.0833868 + 0.0123823\n"
     ]
    },
    {
     "name": "stderr",
     "output_type": "stream",
     "text": [
      "feature_fraction, val_score: 0.083288:  14%|#4        | 1/7 [00:09<00:55,  9.20s/it]"
     ]
    },
    {
     "name": "stdout",
     "output_type": "stream",
     "text": [
      "Early stopping, best iteration is:\n",
      "[75]\tcv_agg's l2: 0.083288 + 0.0126145\n",
      "[100]\tcv_agg's l2: 0.0837071 + 0.0123306\n"
     ]
    },
    {
     "name": "stderr",
     "output_type": "stream",
     "text": [
      "feature_fraction, val_score: 0.083288:  29%|##8       | 2/7 [00:14<00:34,  6.90s/it]"
     ]
    },
    {
     "name": "stdout",
     "output_type": "stream",
     "text": [
      "Early stopping, best iteration is:\n",
      "[75]\tcv_agg's l2: 0.083288 + 0.0126145\n",
      "[100]\tcv_agg's l2: 0.0834609 + 0.0123804\n"
     ]
    },
    {
     "name": "stderr",
     "output_type": "stream",
     "text": [
      "feature_fraction, val_score: 0.083288:  43%|####2     | 3/7 [00:25<00:34,  8.57s/it]"
     ]
    },
    {
     "name": "stdout",
     "output_type": "stream",
     "text": [
      "Early stopping, best iteration is:\n",
      "[75]\tcv_agg's l2: 0.083288 + 0.0126145\n",
      "[100]\tcv_agg's l2: 0.0826507 + 0.0118436\n"
     ]
    },
    {
     "name": "stderr",
     "output_type": "stream",
     "text": [
      "feature_fraction, val_score: 0.082582:  57%|#####7    | 4/7 [00:33<00:25,  8.36s/it]"
     ]
    },
    {
     "name": "stdout",
     "output_type": "stream",
     "text": [
      "Early stopping, best iteration is:\n",
      "[90]\tcv_agg's l2: 0.0825821 + 0.0118707\n",
      "[100]\tcv_agg's l2: 0.0828945 + 0.011933\n"
     ]
    },
    {
     "name": "stderr",
     "output_type": "stream",
     "text": [
      "feature_fraction, val_score: 0.082582:  71%|#######1  | 5/7 [00:41<00:16,  8.42s/it]"
     ]
    },
    {
     "name": "stdout",
     "output_type": "stream",
     "text": [
      "Early stopping, best iteration is:\n",
      "[90]\tcv_agg's l2: 0.0825821 + 0.0118707\n",
      "[100]\tcv_agg's l2: 0.0825815 + 0.0122968\n"
     ]
    },
    {
     "name": "stderr",
     "output_type": "stream",
     "text": [
      "feature_fraction, val_score: 0.082494:  86%|########5 | 6/7 [00:49<00:08,  8.19s/it]"
     ]
    },
    {
     "name": "stdout",
     "output_type": "stream",
     "text": [
      "Early stopping, best iteration is:\n",
      "[91]\tcv_agg's l2: 0.0824941 + 0.0121313\n",
      "[100]\tcv_agg's l2: 0.0827188 + 0.0119105\n"
     ]
    },
    {
     "name": "stderr",
     "output_type": "stream",
     "text": [
      "feature_fraction, val_score: 0.082494: 100%|##########| 7/7 [00:59<00:00,  8.45s/it]\n",
      "num_leaves, val_score: 0.082494:   0%|          | 0/20 [00:00<?, ?it/s]"
     ]
    },
    {
     "name": "stdout",
     "output_type": "stream",
     "text": [
      "Early stopping, best iteration is:\n",
      "[91]\tcv_agg's l2: 0.0824941 + 0.0121313\n",
      "[100]\tcv_agg's l2: 0.0842472 + 0.0125226\n"
     ]
    },
    {
     "name": "stderr",
     "output_type": "stream",
     "text": [
      "num_leaves, val_score: 0.082494:   5%|5         | 1/20 [00:21<06:45, 21.32s/it]"
     ]
    },
    {
     "name": "stdout",
     "output_type": "stream",
     "text": [
      "Early stopping, best iteration is:\n",
      "[91]\tcv_agg's l2: 0.0824941 + 0.0121313\n"
     ]
    },
    {
     "name": "stderr",
     "output_type": "stream",
     "text": [
      "\r",
      "num_leaves, val_score: 0.082494:   5%|5         | 1/20 [00:21<06:45, 21.32s/it]"
     ]
    },
    {
     "name": "stdout",
     "output_type": "stream",
     "text": [
      "[100]\tcv_agg's l2: 0.0851146 + 0.0127639\n"
     ]
    },
    {
     "name": "stderr",
     "output_type": "stream",
     "text": [
      "num_leaves, val_score: 0.082494:  10%|#         | 2/20 [00:45<06:53, 22.98s/it]"
     ]
    },
    {
     "name": "stdout",
     "output_type": "stream",
     "text": [
      "Early stopping, best iteration is:\n",
      "[91]\tcv_agg's l2: 0.0824941 + 0.0121313\n"
     ]
    },
    {
     "name": "stderr",
     "output_type": "stream",
     "text": [
      "\r",
      "num_leaves, val_score: 0.082494:  10%|#         | 2/20 [00:45<06:53, 22.98s/it]"
     ]
    },
    {
     "name": "stdout",
     "output_type": "stream",
     "text": [
      "[100]\tcv_agg's l2: 0.0853107 + 0.0123597\n"
     ]
    },
    {
     "name": "stderr",
     "output_type": "stream",
     "text": [
      "num_leaves, val_score: 0.082494:  15%|#5        | 3/20 [01:08<06:33, 23.15s/it]"
     ]
    },
    {
     "name": "stdout",
     "output_type": "stream",
     "text": [
      "Early stopping, best iteration is:\n",
      "[91]\tcv_agg's l2: 0.0824941 + 0.0121313\n"
     ]
    },
    {
     "name": "stderr",
     "output_type": "stream",
     "text": [
      "\r",
      "num_leaves, val_score: 0.082494:  15%|#5        | 3/20 [01:09<06:33, 23.15s/it]"
     ]
    },
    {
     "name": "stdout",
     "output_type": "stream",
     "text": [
      "[100]\tcv_agg's l2: 0.0820622 + 0.0121809\n"
     ]
    },
    {
     "name": "stderr",
     "output_type": "stream",
     "text": [
      "num_leaves, val_score: 0.082027:  20%|##        | 4/20 [01:16<04:32, 17.05s/it]"
     ]
    },
    {
     "name": "stdout",
     "output_type": "stream",
     "text": [
      "Early stopping, best iteration is:\n",
      "[89]\tcv_agg's l2: 0.0820271 + 0.0122685\n",
      "[100]\tcv_agg's l2: 0.0847264 + 0.0122515\n"
     ]
    },
    {
     "name": "stderr",
     "output_type": "stream",
     "text": [
      "num_leaves, val_score: 0.082027:  25%|##5       | 5/20 [01:36<04:30, 18.02s/it]"
     ]
    },
    {
     "name": "stdout",
     "output_type": "stream",
     "text": [
      "Early stopping, best iteration is:\n",
      "[89]\tcv_agg's l2: 0.0820271 + 0.0122685\n",
      "[100]\tcv_agg's l2: 0.0839602 + 0.0125673\n"
     ]
    },
    {
     "name": "stderr",
     "output_type": "stream",
     "text": [
      "num_leaves, val_score: 0.082027:  30%|###       | 6/20 [01:54<04:12, 18.01s/it]"
     ]
    },
    {
     "name": "stdout",
     "output_type": "stream",
     "text": [
      "Early stopping, best iteration is:\n",
      "[89]\tcv_agg's l2: 0.0820271 + 0.0122685\n",
      "[100]\tcv_agg's l2: 0.083985 + 0.0121412\n"
     ]
    },
    {
     "name": "stderr",
     "output_type": "stream",
     "text": [
      "num_leaves, val_score: 0.082027:  35%|###5      | 7/20 [02:12<03:56, 18.18s/it]"
     ]
    },
    {
     "name": "stdout",
     "output_type": "stream",
     "text": [
      "Early stopping, best iteration is:\n",
      "[89]\tcv_agg's l2: 0.0820271 + 0.0122685\n",
      "[100]\tcv_agg's l2: 0.0844824 + 0.0126655\n"
     ]
    },
    {
     "name": "stderr",
     "output_type": "stream",
     "text": [
      "num_leaves, val_score: 0.082027:  40%|####      | 8/20 [02:42<04:21, 21.82s/it]"
     ]
    },
    {
     "name": "stdout",
     "output_type": "stream",
     "text": [
      "Early stopping, best iteration is:\n",
      "[89]\tcv_agg's l2: 0.0820271 + 0.0122685\n"
     ]
    },
    {
     "name": "stderr",
     "output_type": "stream",
     "text": [
      "\r",
      "num_leaves, val_score: 0.082027:  40%|####      | 8/20 [02:42<04:21, 21.82s/it]"
     ]
    },
    {
     "name": "stdout",
     "output_type": "stream",
     "text": [
      "[100]\tcv_agg's l2: 0.0847409 + 0.01296\n"
     ]
    },
    {
     "name": "stderr",
     "output_type": "stream",
     "text": [
      "num_leaves, val_score: 0.082027:  45%|####5     | 9/20 [03:00<03:46, 20.59s/it]"
     ]
    },
    {
     "name": "stdout",
     "output_type": "stream",
     "text": [
      "Early stopping, best iteration is:\n",
      "[89]\tcv_agg's l2: 0.0820271 + 0.0122685\n",
      "[100]\tcv_agg's l2: 0.0846541 + 0.0120733\n"
     ]
    },
    {
     "name": "stderr",
     "output_type": "stream",
     "text": [
      "num_leaves, val_score: 0.082027:  50%|#####     | 10/20 [03:24<03:37, 21.77s/it]"
     ]
    },
    {
     "name": "stdout",
     "output_type": "stream",
     "text": [
      "Early stopping, best iteration is:\n",
      "[89]\tcv_agg's l2: 0.0820271 + 0.0122685\n"
     ]
    },
    {
     "name": "stderr",
     "output_type": "stream",
     "text": [
      "\r",
      "num_leaves, val_score: 0.082027:  50%|#####     | 10/20 [03:24<03:37, 21.77s/it]"
     ]
    },
    {
     "name": "stdout",
     "output_type": "stream",
     "text": [
      "[100]\tcv_agg's l2: 0.0843516 + 0.0126504\n"
     ]
    },
    {
     "name": "stderr",
     "output_type": "stream",
     "text": [
      "num_leaves, val_score: 0.082027:  55%|#####5    | 11/20 [03:27<02:23, 15.89s/it]"
     ]
    },
    {
     "name": "stdout",
     "output_type": "stream",
     "text": [
      "Early stopping, best iteration is:\n",
      "[89]\tcv_agg's l2: 0.0820271 + 0.0122685\n",
      "[100]\tcv_agg's l2: 0.0831914 + 0.0122264\n"
     ]
    },
    {
     "name": "stderr",
     "output_type": "stream",
     "text": [
      "num_leaves, val_score: 0.082027:  60%|######    | 12/20 [03:35<01:48, 13.59s/it]"
     ]
    },
    {
     "name": "stdout",
     "output_type": "stream",
     "text": [
      "Early stopping, best iteration is:\n",
      "[89]\tcv_agg's l2: 0.0820271 + 0.0122685\n",
      "[100]\tcv_agg's l2: 0.0826901 + 0.0130162\n"
     ]
    },
    {
     "name": "stderr",
     "output_type": "stream",
     "text": [
      "num_leaves, val_score: 0.082027:  65%|######5   | 13/20 [03:41<01:18, 11.23s/it]"
     ]
    },
    {
     "name": "stdout",
     "output_type": "stream",
     "text": [
      "Early stopping, best iteration is:\n",
      "[89]\tcv_agg's l2: 0.0820271 + 0.0122685\n",
      "[100]\tcv_agg's l2: 0.0831451 + 0.0118304\n"
     ]
    },
    {
     "name": "stderr",
     "output_type": "stream",
     "text": [
      "num_leaves, val_score: 0.082027:  70%|#######   | 14/20 [03:51<01:05, 10.98s/it]"
     ]
    },
    {
     "name": "stdout",
     "output_type": "stream",
     "text": [
      "Early stopping, best iteration is:\n",
      "[89]\tcv_agg's l2: 0.0820271 + 0.0122685\n",
      "[100]\tcv_agg's l2: 0.083303 + 0.0116393\n"
     ]
    },
    {
     "name": "stderr",
     "output_type": "stream",
     "text": [
      "num_leaves, val_score: 0.082027:  75%|#######5  | 15/20 [04:02<00:54, 10.84s/it]"
     ]
    },
    {
     "name": "stdout",
     "output_type": "stream",
     "text": [
      "Early stopping, best iteration is:\n",
      "[89]\tcv_agg's l2: 0.0820271 + 0.0122685\n",
      "[100]\tcv_agg's l2: 0.0839538 + 0.0126689\n"
     ]
    },
    {
     "name": "stderr",
     "output_type": "stream",
     "text": [
      "num_leaves, val_score: 0.082027:  80%|########  | 16/20 [04:04<00:33,  8.32s/it]"
     ]
    },
    {
     "name": "stdout",
     "output_type": "stream",
     "text": [
      "Early stopping, best iteration is:\n",
      "[89]\tcv_agg's l2: 0.0820271 + 0.0122685\n",
      "[100]\tcv_agg's l2: 0.0837475 + 0.0112295\n"
     ]
    },
    {
     "name": "stderr",
     "output_type": "stream",
     "text": [
      "num_leaves, val_score: 0.082027:  85%|########5 | 17/20 [04:18<00:30, 10.02s/it]"
     ]
    },
    {
     "name": "stdout",
     "output_type": "stream",
     "text": [
      "Early stopping, best iteration is:\n",
      "[89]\tcv_agg's l2: 0.0820271 + 0.0122685\n",
      "[100]\tcv_agg's l2: 0.0825772 + 0.0117289\n"
     ]
    },
    {
     "name": "stderr",
     "output_type": "stream",
     "text": [
      "num_leaves, val_score: 0.082027:  90%|######### | 18/20 [04:25<00:17,  8.99s/it]"
     ]
    },
    {
     "name": "stdout",
     "output_type": "stream",
     "text": [
      "Early stopping, best iteration is:\n",
      "[89]\tcv_agg's l2: 0.0820271 + 0.0122685\n",
      "[100]\tcv_agg's l2: 0.0839758 + 0.0122425\n"
     ]
    },
    {
     "name": "stderr",
     "output_type": "stream",
     "text": [
      "num_leaves, val_score: 0.082027:  95%|#########5| 19/20 [04:40<00:10, 10.78s/it]"
     ]
    },
    {
     "name": "stdout",
     "output_type": "stream",
     "text": [
      "Early stopping, best iteration is:\n",
      "[89]\tcv_agg's l2: 0.0820271 + 0.0122685\n",
      "[100]\tcv_agg's l2: 0.0832638 + 0.0120811\n"
     ]
    },
    {
     "name": "stderr",
     "output_type": "stream",
     "text": [
      "num_leaves, val_score: 0.082027: 100%|##########| 20/20 [04:59<00:00, 14.98s/it]"
     ]
    },
    {
     "name": "stdout",
     "output_type": "stream",
     "text": [
      "Early stopping, best iteration is:\n",
      "[89]\tcv_agg's l2: 0.0820271 + 0.0122685\n"
     ]
    },
    {
     "name": "stderr",
     "output_type": "stream",
     "text": [
      "\n",
      "bagging, val_score: 0.082027:   0%|          | 0/10 [00:00<?, ?it/s]"
     ]
    },
    {
     "name": "stdout",
     "output_type": "stream",
     "text": [
      "[100]\tcv_agg's l2: 0.0859858 + 0.0115822\n"
     ]
    },
    {
     "name": "stderr",
     "output_type": "stream",
     "text": [
      "bagging, val_score: 0.082027:  10%|#         | 1/10 [00:07<01:09,  7.76s/it]"
     ]
    },
    {
     "name": "stdout",
     "output_type": "stream",
     "text": [
      "Early stopping, best iteration is:\n",
      "[89]\tcv_agg's l2: 0.0820271 + 0.0122685\n",
      "[100]\tcv_agg's l2: 0.0828751 + 0.0118242\n"
     ]
    },
    {
     "name": "stderr",
     "output_type": "stream",
     "text": [
      "bagging, val_score: 0.082027:  20%|##        | 2/10 [00:15<01:03,  7.95s/it]"
     ]
    },
    {
     "name": "stdout",
     "output_type": "stream",
     "text": [
      "Early stopping, best iteration is:\n",
      "[89]\tcv_agg's l2: 0.0820271 + 0.0122685\n",
      "[100]\tcv_agg's l2: 0.0863117 + 0.0115363\n"
     ]
    },
    {
     "name": "stderr",
     "output_type": "stream",
     "text": [
      "bagging, val_score: 0.082027:  30%|###       | 3/10 [00:23<00:54,  7.74s/it]"
     ]
    },
    {
     "name": "stdout",
     "output_type": "stream",
     "text": [
      "Early stopping, best iteration is:\n",
      "[89]\tcv_agg's l2: 0.0820271 + 0.0122685\n",
      "[100]\tcv_agg's l2: 0.0834834 + 0.012365\n"
     ]
    },
    {
     "name": "stderr",
     "output_type": "stream",
     "text": [
      "bagging, val_score: 0.082027:  40%|####      | 4/10 [00:31<00:46,  7.78s/it]"
     ]
    },
    {
     "name": "stdout",
     "output_type": "stream",
     "text": [
      "Early stopping, best iteration is:\n",
      "[89]\tcv_agg's l2: 0.0820271 + 0.0122685\n",
      "[100]\tcv_agg's l2: 0.0867553 + 0.0121118\n"
     ]
    },
    {
     "name": "stderr",
     "output_type": "stream",
     "text": [
      "bagging, val_score: 0.082027:  50%|#####     | 5/10 [00:38<00:37,  7.44s/it]"
     ]
    },
    {
     "name": "stdout",
     "output_type": "stream",
     "text": [
      "Early stopping, best iteration is:\n",
      "[89]\tcv_agg's l2: 0.0820271 + 0.0122685\n",
      "[100]\tcv_agg's l2: 0.0845771 + 0.0108448\n"
     ]
    },
    {
     "name": "stderr",
     "output_type": "stream",
     "text": [
      "bagging, val_score: 0.082027:  60%|######    | 6/10 [00:45<00:30,  7.59s/it]"
     ]
    },
    {
     "name": "stdout",
     "output_type": "stream",
     "text": [
      "Early stopping, best iteration is:\n",
      "[89]\tcv_agg's l2: 0.0820271 + 0.0122685\n",
      "[100]\tcv_agg's l2: 0.0844991 + 0.01161\n"
     ]
    },
    {
     "name": "stderr",
     "output_type": "stream",
     "text": [
      "bagging, val_score: 0.082027:  70%|#######   | 7/10 [00:53<00:22,  7.64s/it]"
     ]
    },
    {
     "name": "stdout",
     "output_type": "stream",
     "text": [
      "Early stopping, best iteration is:\n",
      "[89]\tcv_agg's l2: 0.0820271 + 0.0122685\n",
      "[100]\tcv_agg's l2: 0.0840188 + 0.0126006\n"
     ]
    },
    {
     "name": "stderr",
     "output_type": "stream",
     "text": [
      "bagging, val_score: 0.082027:  80%|########  | 8/10 [01:00<00:14,  7.43s/it]"
     ]
    },
    {
     "name": "stdout",
     "output_type": "stream",
     "text": [
      "Early stopping, best iteration is:\n",
      "[89]\tcv_agg's l2: 0.0820271 + 0.0122685\n",
      "[100]\tcv_agg's l2: 0.0827992 + 0.0115501\n"
     ]
    },
    {
     "name": "stderr",
     "output_type": "stream",
     "text": [
      "bagging, val_score: 0.082027:  90%|######### | 9/10 [01:08<00:07,  7.63s/it]"
     ]
    },
    {
     "name": "stdout",
     "output_type": "stream",
     "text": [
      "Early stopping, best iteration is:\n",
      "[89]\tcv_agg's l2: 0.0820271 + 0.0122685\n",
      "[100]\tcv_agg's l2: 0.084985 + 0.0121062\n"
     ]
    },
    {
     "name": "stderr",
     "output_type": "stream",
     "text": [
      "bagging, val_score: 0.082027: 100%|##########| 10/10 [01:16<00:00,  7.60s/it]\n",
      "feature_fraction_stage2, val_score: 0.082027:   0%|          | 0/6 [00:00<?, ?it/s]"
     ]
    },
    {
     "name": "stdout",
     "output_type": "stream",
     "text": [
      "Early stopping, best iteration is:\n",
      "[89]\tcv_agg's l2: 0.0820271 + 0.0122685\n",
      "[100]\tcv_agg's l2: 0.083006 + 0.0126847\n"
     ]
    },
    {
     "name": "stderr",
     "output_type": "stream",
     "text": [
      "feature_fraction_stage2, val_score: 0.082027:  17%|#6        | 1/6 [00:08<00:39,  7.96s/it]"
     ]
    },
    {
     "name": "stdout",
     "output_type": "stream",
     "text": [
      "Early stopping, best iteration is:\n",
      "[89]\tcv_agg's l2: 0.0820271 + 0.0122685\n",
      "[100]\tcv_agg's l2: 0.0834867 + 0.0125753\n"
     ]
    },
    {
     "name": "stderr",
     "output_type": "stream",
     "text": [
      "feature_fraction_stage2, val_score: 0.082027:  33%|###3      | 2/6 [00:15<00:31,  7.93s/it]"
     ]
    },
    {
     "name": "stdout",
     "output_type": "stream",
     "text": [
      "Early stopping, best iteration is:\n",
      "[89]\tcv_agg's l2: 0.0820271 + 0.0122685\n",
      "[100]\tcv_agg's l2: 0.0833954 + 0.0123155\n"
     ]
    },
    {
     "name": "stderr",
     "output_type": "stream",
     "text": [
      "feature_fraction_stage2, val_score: 0.082027:  50%|#####     | 3/6 [00:24<00:24,  8.12s/it]"
     ]
    },
    {
     "name": "stdout",
     "output_type": "stream",
     "text": [
      "Early stopping, best iteration is:\n",
      "[89]\tcv_agg's l2: 0.0820271 + 0.0122685\n",
      "[100]\tcv_agg's l2: 0.0824385 + 0.0125827\n"
     ]
    },
    {
     "name": "stderr",
     "output_type": "stream",
     "text": [
      "feature_fraction_stage2, val_score: 0.082027:  67%|######6   | 4/6 [00:33<00:16,  8.40s/it]"
     ]
    },
    {
     "name": "stdout",
     "output_type": "stream",
     "text": [
      "Early stopping, best iteration is:\n",
      "[89]\tcv_agg's l2: 0.0820271 + 0.0122685\n",
      "[100]\tcv_agg's l2: 0.082944 + 0.0123316\n"
     ]
    },
    {
     "name": "stderr",
     "output_type": "stream",
     "text": [
      "feature_fraction_stage2, val_score: 0.082027:  83%|########3 | 5/6 [00:40<00:07,  8.00s/it]"
     ]
    },
    {
     "name": "stdout",
     "output_type": "stream",
     "text": [
      "Early stopping, best iteration is:\n",
      "[89]\tcv_agg's l2: 0.0820271 + 0.0122685\n",
      "[100]\tcv_agg's l2: 0.0827581 + 0.0127233\n"
     ]
    },
    {
     "name": "stderr",
     "output_type": "stream",
     "text": [
      "feature_fraction_stage2, val_score: 0.082027: 100%|##########| 6/6 [00:47<00:00,  7.86s/it]\n",
      "regularization_factors, val_score: 0.082027:   0%|          | 0/20 [00:00<?, ?it/s]"
     ]
    },
    {
     "name": "stdout",
     "output_type": "stream",
     "text": [
      "Early stopping, best iteration is:\n",
      "[89]\tcv_agg's l2: 0.0820271 + 0.0122685\n",
      "[100]\tcv_agg's l2: 0.0832527 + 0.0119731\n"
     ]
    },
    {
     "name": "stderr",
     "output_type": "stream",
     "text": [
      "regularization_factors, val_score: 0.082027:   5%|5         | 1/20 [00:09<03:08,  9.92s/it]"
     ]
    },
    {
     "name": "stdout",
     "output_type": "stream",
     "text": [
      "Early stopping, best iteration is:\n",
      "[89]\tcv_agg's l2: 0.0820271 + 0.0122685\n",
      "[100]\tcv_agg's l2: 0.0825459 + 0.0125628\n"
     ]
    },
    {
     "name": "stderr",
     "output_type": "stream",
     "text": [
      "regularization_factors, val_score: 0.082027:  10%|#         | 2/20 [00:18<02:46,  9.23s/it]"
     ]
    },
    {
     "name": "stdout",
     "output_type": "stream",
     "text": [
      "Early stopping, best iteration is:\n",
      "[89]\tcv_agg's l2: 0.0820271 + 0.0122685\n",
      "[100]\tcv_agg's l2: 0.0820622 + 0.0121809\n"
     ]
    },
    {
     "name": "stderr",
     "output_type": "stream",
     "text": [
      "regularization_factors, val_score: 0.082027:  15%|#5        | 3/20 [00:28<02:40,  9.44s/it]"
     ]
    },
    {
     "name": "stdout",
     "output_type": "stream",
     "text": [
      "Early stopping, best iteration is:\n",
      "[89]\tcv_agg's l2: 0.0820271 + 0.0122685\n",
      "[100]\tcv_agg's l2: 0.0824723 + 0.0124926\n"
     ]
    },
    {
     "name": "stderr",
     "output_type": "stream",
     "text": [
      "regularization_factors, val_score: 0.082027:  20%|##        | 4/20 [00:37<02:31,  9.47s/it]"
     ]
    },
    {
     "name": "stdout",
     "output_type": "stream",
     "text": [
      "Early stopping, best iteration is:\n",
      "[89]\tcv_agg's l2: 0.0820271 + 0.0122685\n",
      "[100]\tcv_agg's l2: 0.0828156 + 0.0121917\n"
     ]
    },
    {
     "name": "stderr",
     "output_type": "stream",
     "text": [
      "regularization_factors, val_score: 0.082027:  25%|##5       | 5/20 [00:47<02:22,  9.52s/it]"
     ]
    },
    {
     "name": "stdout",
     "output_type": "stream",
     "text": [
      "Early stopping, best iteration is:\n",
      "[89]\tcv_agg's l2: 0.0820271 + 0.0122685\n",
      "[100]\tcv_agg's l2: 0.0821738 + 0.0123272\n"
     ]
    },
    {
     "name": "stderr",
     "output_type": "stream",
     "text": [
      "regularization_factors, val_score: 0.082027:  30%|###       | 6/20 [00:57<02:14,  9.59s/it]"
     ]
    },
    {
     "name": "stdout",
     "output_type": "stream",
     "text": [
      "Early stopping, best iteration is:\n",
      "[89]\tcv_agg's l2: 0.0820271 + 0.0122685\n",
      "[100]\tcv_agg's l2: 0.0823169 + 0.0122654\n"
     ]
    },
    {
     "name": "stderr",
     "output_type": "stream",
     "text": [
      "regularization_factors, val_score: 0.082027:  35%|###5      | 7/20 [01:08<02:09,  9.96s/it]"
     ]
    },
    {
     "name": "stdout",
     "output_type": "stream",
     "text": [
      "Early stopping, best iteration is:\n",
      "[89]\tcv_agg's l2: 0.0820271 + 0.0122685\n",
      "[100]\tcv_agg's l2: 0.081964 + 0.0126155\n"
     ]
    },
    {
     "name": "stderr",
     "output_type": "stream",
     "text": [
      "regularization_factors, val_score: 0.081624:  40%|####      | 8/20 [01:16<01:55,  9.58s/it]"
     ]
    },
    {
     "name": "stdout",
     "output_type": "stream",
     "text": [
      "Early stopping, best iteration is:\n",
      "[77]\tcv_agg's l2: 0.0816238 + 0.0128381\n",
      "[100]\tcv_agg's l2: 0.0828057 + 0.012487\n"
     ]
    },
    {
     "name": "stderr",
     "output_type": "stream",
     "text": [
      "regularization_factors, val_score: 0.081624:  45%|####5     | 9/20 [01:24<01:40,  9.14s/it]"
     ]
    },
    {
     "name": "stdout",
     "output_type": "stream",
     "text": [
      "Early stopping, best iteration is:\n",
      "[77]\tcv_agg's l2: 0.0816238 + 0.0128381\n",
      "[100]\tcv_agg's l2: 0.0829561 + 0.0125678\n"
     ]
    },
    {
     "name": "stderr",
     "output_type": "stream",
     "text": [
      "regularization_factors, val_score: 0.081624:  50%|#####     | 10/20 [01:33<01:30,  9.08s/it]"
     ]
    },
    {
     "name": "stdout",
     "output_type": "stream",
     "text": [
      "Early stopping, best iteration is:\n",
      "[77]\tcv_agg's l2: 0.0816238 + 0.0128381\n",
      "[100]\tcv_agg's l2: 0.0820646 + 0.012909\n"
     ]
    },
    {
     "name": "stderr",
     "output_type": "stream",
     "text": [
      "regularization_factors, val_score: 0.081624:  55%|#####5    | 11/20 [01:42<01:20,  8.94s/it]"
     ]
    },
    {
     "name": "stdout",
     "output_type": "stream",
     "text": [
      "Early stopping, best iteration is:\n",
      "[77]\tcv_agg's l2: 0.0816238 + 0.0128381\n",
      "[100]\tcv_agg's l2: 0.0820622 + 0.0121809\n"
     ]
    },
    {
     "name": "stderr",
     "output_type": "stream",
     "text": [
      "regularization_factors, val_score: 0.081624:  60%|######    | 12/20 [01:51<01:10,  8.84s/it]"
     ]
    },
    {
     "name": "stdout",
     "output_type": "stream",
     "text": [
      "Early stopping, best iteration is:\n",
      "[77]\tcv_agg's l2: 0.0816238 + 0.0128381\n",
      "[100]\tcv_agg's l2: 0.0820622 + 0.0121809\n"
     ]
    },
    {
     "name": "stderr",
     "output_type": "stream",
     "text": [
      "regularization_factors, val_score: 0.081624:  65%|######5   | 13/20 [01:59<01:01,  8.76s/it]"
     ]
    },
    {
     "name": "stdout",
     "output_type": "stream",
     "text": [
      "Early stopping, best iteration is:\n",
      "[77]\tcv_agg's l2: 0.0816238 + 0.0128381\n",
      "[100]\tcv_agg's l2: 0.0819625 + 0.0121282\n"
     ]
    },
    {
     "name": "stderr",
     "output_type": "stream",
     "text": [
      "regularization_factors, val_score: 0.081624:  70%|#######   | 14/20 [02:08<00:52,  8.75s/it]"
     ]
    },
    {
     "name": "stdout",
     "output_type": "stream",
     "text": [
      "Early stopping, best iteration is:\n",
      "[77]\tcv_agg's l2: 0.0816238 + 0.0128381\n",
      "[100]\tcv_agg's l2: 0.0818604 + 0.0126409\n"
     ]
    },
    {
     "name": "stderr",
     "output_type": "stream",
     "text": [
      "regularization_factors, val_score: 0.081624:  75%|#######5  | 15/20 [02:17<00:44,  8.98s/it]"
     ]
    },
    {
     "name": "stdout",
     "output_type": "stream",
     "text": [
      "Early stopping, best iteration is:\n",
      "[77]\tcv_agg's l2: 0.0816238 + 0.0128381\n",
      "[100]\tcv_agg's l2: 0.0820622 + 0.0121809\n"
     ]
    },
    {
     "name": "stderr",
     "output_type": "stream",
     "text": [
      "regularization_factors, val_score: 0.081624:  80%|########  | 16/20 [02:26<00:35,  8.84s/it]"
     ]
    },
    {
     "name": "stdout",
     "output_type": "stream",
     "text": [
      "Early stopping, best iteration is:\n",
      "[77]\tcv_agg's l2: 0.0816238 + 0.0128381\n",
      "[100]\tcv_agg's l2: 0.0820622 + 0.0121809\n"
     ]
    },
    {
     "name": "stderr",
     "output_type": "stream",
     "text": [
      "regularization_factors, val_score: 0.081624:  85%|########5 | 17/20 [02:35<00:26,  8.78s/it]"
     ]
    },
    {
     "name": "stdout",
     "output_type": "stream",
     "text": [
      "Early stopping, best iteration is:\n",
      "[77]\tcv_agg's l2: 0.0816238 + 0.0128381\n",
      "[100]\tcv_agg's l2: 0.0821975 + 0.0120935\n"
     ]
    },
    {
     "name": "stderr",
     "output_type": "stream",
     "text": [
      "regularization_factors, val_score: 0.081624:  90%|######### | 18/20 [02:43<00:17,  8.64s/it]"
     ]
    },
    {
     "name": "stdout",
     "output_type": "stream",
     "text": [
      "Early stopping, best iteration is:\n",
      "[77]\tcv_agg's l2: 0.0816238 + 0.0128381\n",
      "[100]\tcv_agg's l2: 0.0822989 + 0.0118627\n"
     ]
    },
    {
     "name": "stderr",
     "output_type": "stream",
     "text": [
      "regularization_factors, val_score: 0.081624:  95%|#########5| 19/20 [02:52<00:08,  8.73s/it]"
     ]
    },
    {
     "name": "stdout",
     "output_type": "stream",
     "text": [
      "Early stopping, best iteration is:\n",
      "[77]\tcv_agg's l2: 0.0816238 + 0.0128381\n",
      "[100]\tcv_agg's l2: 0.0821687 + 0.0127234\n"
     ]
    },
    {
     "name": "stderr",
     "output_type": "stream",
     "text": [
      "regularization_factors, val_score: 0.081624: 100%|##########| 20/20 [02:58<00:00,  8.95s/it]\n",
      "min_data_in_leaf, val_score: 0.081624:   0%|          | 0/5 [00:00<?, ?it/s]"
     ]
    },
    {
     "name": "stdout",
     "output_type": "stream",
     "text": [
      "Early stopping, best iteration is:\n",
      "[77]\tcv_agg's l2: 0.0816238 + 0.0128381\n",
      "[100]\tcv_agg's l2: 0.0829402 + 0.0123082\n"
     ]
    },
    {
     "name": "stderr",
     "output_type": "stream",
     "text": [
      "min_data_in_leaf, val_score: 0.081624:  20%|##        | 1/5 [00:08<00:33,  8.35s/it]"
     ]
    },
    {
     "name": "stdout",
     "output_type": "stream",
     "text": [
      "Early stopping, best iteration is:\n",
      "[77]\tcv_agg's l2: 0.0816238 + 0.0128381\n",
      "[100]\tcv_agg's l2: 0.0825607 + 0.0125095\n"
     ]
    },
    {
     "name": "stderr",
     "output_type": "stream",
     "text": [
      "min_data_in_leaf, val_score: 0.081624:  40%|####      | 2/5 [00:18<00:28,  9.61s/it]"
     ]
    },
    {
     "name": "stdout",
     "output_type": "stream",
     "text": [
      "Early stopping, best iteration is:\n",
      "[77]\tcv_agg's l2: 0.0816238 + 0.0128381\n",
      "[100]\tcv_agg's l2: 0.0824954 + 0.0118126\n"
     ]
    },
    {
     "name": "stderr",
     "output_type": "stream",
     "text": [
      "min_data_in_leaf, val_score: 0.081624:  60%|######    | 3/5 [00:28<00:19,  9.65s/it]"
     ]
    },
    {
     "name": "stdout",
     "output_type": "stream",
     "text": [
      "Early stopping, best iteration is:\n",
      "[77]\tcv_agg's l2: 0.0816238 + 0.0128381\n",
      "[100]\tcv_agg's l2: 0.0824993 + 0.0123455\n"
     ]
    },
    {
     "name": "stderr",
     "output_type": "stream",
     "text": [
      "min_data_in_leaf, val_score: 0.081624:  80%|########  | 4/5 [00:37<00:09,  9.20s/it]"
     ]
    },
    {
     "name": "stdout",
     "output_type": "stream",
     "text": [
      "Early stopping, best iteration is:\n",
      "[77]\tcv_agg's l2: 0.0816238 + 0.0128381\n",
      "[100]\tcv_agg's l2: 0.0824075 + 0.0119795\n"
     ]
    },
    {
     "name": "stderr",
     "output_type": "stream",
     "text": [
      "min_data_in_leaf, val_score: 0.081624: 100%|##########| 5/5 [00:44<00:00,  8.82s/it]"
     ]
    },
    {
     "name": "stdout",
     "output_type": "stream",
     "text": [
      "Early stopping, best iteration is:\n",
      "[77]\tcv_agg's l2: 0.0816238 + 0.0128381\n",
      "Best score: 0.08162384115307154\n",
      "Best params: {'objective': 'regression', 'metric': 'l2', 'boosting_type': 'gbdt', 'verbosity': -1, 'feature_pre_filter': False, 'lambda_l1': 6.385498255775569e-05, 'lambda_l2': 3.533505266797999, 'num_leaves': 41, 'feature_fraction': 0.5, 'bagging_fraction': 1.0, 'bagging_freq': 0, 'min_child_samples': 20}\n",
      "  Params: \n",
      "    objective: regression\n",
      "    metric: l2\n",
      "    boosting_type: gbdt\n",
      "    verbosity: -1\n",
      "    feature_pre_filter: False\n",
      "    lambda_l1: 6.385498255775569e-05\n",
      "    lambda_l2: 3.533505266797999\n",
      "    num_leaves: 41\n",
      "    feature_fraction: 0.5\n",
      "    bagging_fraction: 1.0\n",
      "    bagging_freq: 0\n",
      "    min_child_samples: 20\n",
      "saving model\n"
     ]
    },
    {
     "name": "stderr",
     "output_type": "stream",
     "text": [
      "\n"
     ]
    }
   ],
   "source": [
    "model_V = SentimentClassifier()\n",
    "model_V.fit(f, df.V.values)\n",
    "model_V.save(Path('boosters')/'V')"
   ]
  },
  {
   "cell_type": "code",
   "execution_count": 8,
   "metadata": {},
   "outputs": [
    {
     "name": "stderr",
     "output_type": "stream",
     "text": [
      "feature_fraction, val_score: inf:   0%|          | 0/7 [00:00<?, ?it/s]"
     ]
    },
    {
     "name": "stdout",
     "output_type": "stream",
     "text": [
      "Training until validation scores don't improve for 50 rounds\n"
     ]
    },
    {
     "name": "stderr",
     "output_type": "stream",
     "text": [
      "feature_fraction, val_score: 0.041787:  14%|#4        | 1/7 [00:06<00:36,  6.14s/it]"
     ]
    },
    {
     "name": "stdout",
     "output_type": "stream",
     "text": [
      "Early stopping, best iteration is:\n",
      "[26]\tcv_agg's l2: 0.0417865 + 0.00671767\n"
     ]
    },
    {
     "name": "stderr",
     "output_type": "stream",
     "text": [
      "feature_fraction, val_score: 0.041787:  29%|##8       | 2/7 [00:11<00:29,  5.80s/it]"
     ]
    },
    {
     "name": "stdout",
     "output_type": "stream",
     "text": [
      "Early stopping, best iteration is:\n",
      "[26]\tcv_agg's l2: 0.0417865 + 0.00671767\n"
     ]
    },
    {
     "name": "stderr",
     "output_type": "stream",
     "text": [
      "feature_fraction, val_score: 0.041772:  43%|####2     | 3/7 [00:15<00:19,  4.98s/it]"
     ]
    },
    {
     "name": "stdout",
     "output_type": "stream",
     "text": [
      "Early stopping, best iteration is:\n",
      "[34]\tcv_agg's l2: 0.0417725 + 0.00624023\n"
     ]
    },
    {
     "name": "stderr",
     "output_type": "stream",
     "text": [
      "feature_fraction, val_score: 0.041772:  57%|#####7    | 4/7 [00:22<00:17,  5.72s/it]"
     ]
    },
    {
     "name": "stdout",
     "output_type": "stream",
     "text": [
      "Early stopping, best iteration is:\n",
      "[34]\tcv_agg's l2: 0.0417725 + 0.00624023\n"
     ]
    },
    {
     "name": "stderr",
     "output_type": "stream",
     "text": [
      "feature_fraction, val_score: 0.041772:  71%|#######1  | 5/7 [00:26<00:09,  4.90s/it]"
     ]
    },
    {
     "name": "stdout",
     "output_type": "stream",
     "text": [
      "Early stopping, best iteration is:\n",
      "[34]\tcv_agg's l2: 0.0417725 + 0.00624023\n"
     ]
    },
    {
     "name": "stderr",
     "output_type": "stream",
     "text": [
      "feature_fraction, val_score: 0.041627:  86%|########5 | 6/7 [00:30<00:04,  4.85s/it]"
     ]
    },
    {
     "name": "stdout",
     "output_type": "stream",
     "text": [
      "Early stopping, best iteration is:\n",
      "[33]\tcv_agg's l2: 0.0416272 + 0.00638825\n"
     ]
    },
    {
     "name": "stderr",
     "output_type": "stream",
     "text": [
      "feature_fraction, val_score: 0.041627: 100%|##########| 7/7 [00:36<00:00,  5.15s/it]\n",
      "num_leaves, val_score: 0.041627:   0%|          | 0/20 [00:00<?, ?it/s]"
     ]
    },
    {
     "name": "stdout",
     "output_type": "stream",
     "text": [
      "Early stopping, best iteration is:\n",
      "[33]\tcv_agg's l2: 0.0416272 + 0.00638825\n"
     ]
    },
    {
     "name": "stderr",
     "output_type": "stream",
     "text": [
      "num_leaves, val_score: 0.041627:   5%|5         | 1/20 [00:22<07:12, 22.77s/it]"
     ]
    },
    {
     "name": "stdout",
     "output_type": "stream",
     "text": [
      "Early stopping, best iteration is:\n",
      "[33]\tcv_agg's l2: 0.0416272 + 0.00638825\n"
     ]
    },
    {
     "name": "stderr",
     "output_type": "stream",
     "text": [
      "num_leaves, val_score: 0.041627:  10%|#         | 2/20 [00:34<04:56, 16.49s/it]"
     ]
    },
    {
     "name": "stdout",
     "output_type": "stream",
     "text": [
      "Early stopping, best iteration is:\n",
      "[33]\tcv_agg's l2: 0.0416272 + 0.00638825\n"
     ]
    },
    {
     "name": "stderr",
     "output_type": "stream",
     "text": [
      "num_leaves, val_score: 0.041627:  15%|#5        | 3/20 [00:49<04:23, 15.52s/it]"
     ]
    },
    {
     "name": "stdout",
     "output_type": "stream",
     "text": [
      "Early stopping, best iteration is:\n",
      "[33]\tcv_agg's l2: 0.0416272 + 0.00638825\n"
     ]
    },
    {
     "name": "stderr",
     "output_type": "stream",
     "text": [
      "num_leaves, val_score: 0.041627:  20%|##        | 4/20 [01:09<04:35, 17.25s/it]"
     ]
    },
    {
     "name": "stdout",
     "output_type": "stream",
     "text": [
      "Early stopping, best iteration is:\n",
      "[33]\tcv_agg's l2: 0.0416272 + 0.00638825\n"
     ]
    },
    {
     "name": "stderr",
     "output_type": "stream",
     "text": [
      "num_leaves, val_score: 0.041627:  25%|##5       | 5/20 [01:21<03:50, 15.36s/it]"
     ]
    },
    {
     "name": "stdout",
     "output_type": "stream",
     "text": [
      "Early stopping, best iteration is:\n",
      "[33]\tcv_agg's l2: 0.0416272 + 0.00638825\n"
     ]
    },
    {
     "name": "stderr",
     "output_type": "stream",
     "text": [
      "num_leaves, val_score: 0.041627:  30%|###       | 6/20 [01:36<03:35, 15.38s/it]"
     ]
    },
    {
     "name": "stdout",
     "output_type": "stream",
     "text": [
      "Early stopping, best iteration is:\n",
      "[33]\tcv_agg's l2: 0.0416272 + 0.00638825\n"
     ]
    },
    {
     "name": "stderr",
     "output_type": "stream",
     "text": [
      "num_leaves, val_score: 0.041627:  35%|###5      | 7/20 [01:55<03:35, 16.60s/it]"
     ]
    },
    {
     "name": "stdout",
     "output_type": "stream",
     "text": [
      "Early stopping, best iteration is:\n",
      "[33]\tcv_agg's l2: 0.0416272 + 0.00638825\n"
     ]
    },
    {
     "name": "stderr",
     "output_type": "stream",
     "text": [
      "num_leaves, val_score: 0.041627:  40%|####      | 8/20 [02:11<03:15, 16.29s/it]"
     ]
    },
    {
     "name": "stdout",
     "output_type": "stream",
     "text": [
      "Early stopping, best iteration is:\n",
      "[33]\tcv_agg's l2: 0.0416272 + 0.00638825\n"
     ]
    },
    {
     "name": "stderr",
     "output_type": "stream",
     "text": [
      "num_leaves, val_score: 0.041627:  45%|####5     | 9/20 [02:31<03:11, 17.38s/it]"
     ]
    },
    {
     "name": "stdout",
     "output_type": "stream",
     "text": [
      "Early stopping, best iteration is:\n",
      "[33]\tcv_agg's l2: 0.0416272 + 0.00638825\n"
     ]
    },
    {
     "name": "stderr",
     "output_type": "stream",
     "text": [
      "num_leaves, val_score: 0.041627:  50%|#####     | 10/20 [02:45<02:44, 16.46s/it]"
     ]
    },
    {
     "name": "stdout",
     "output_type": "stream",
     "text": [
      "Early stopping, best iteration is:\n",
      "[33]\tcv_agg's l2: 0.0416272 + 0.00638825\n"
     ]
    },
    {
     "name": "stderr",
     "output_type": "stream",
     "text": [
      "num_leaves, val_score: 0.041627:  55%|#####5    | 11/20 [02:49<01:52, 12.56s/it]"
     ]
    },
    {
     "name": "stdout",
     "output_type": "stream",
     "text": [
      "Early stopping, best iteration is:\n",
      "[33]\tcv_agg's l2: 0.0416272 + 0.00638825\n",
      "[100]\tcv_agg's l2: 0.0415619 + 0.00627773\n"
     ]
    },
    {
     "name": "stderr",
     "output_type": "stream",
     "text": [
      "num_leaves, val_score: 0.041507:  60%|######    | 12/20 [02:51<01:16,  9.52s/it]"
     ]
    },
    {
     "name": "stdout",
     "output_type": "stream",
     "text": [
      "Early stopping, best iteration is:\n",
      "[79]\tcv_agg's l2: 0.0415073 + 0.00630741\n",
      "[100]\tcv_agg's l2: 0.0416413 + 0.00626485\n"
     ]
    },
    {
     "name": "stderr",
     "output_type": "stream",
     "text": [
      "num_leaves, val_score: 0.041507:  65%|######5   | 13/20 [02:54<00:52,  7.43s/it]"
     ]
    },
    {
     "name": "stdout",
     "output_type": "stream",
     "text": [
      "Early stopping, best iteration is:\n",
      "[79]\tcv_agg's l2: 0.0415073 + 0.00630741\n",
      "[100]\tcv_agg's l2: 0.0415619 + 0.00627773\n"
     ]
    },
    {
     "name": "stderr",
     "output_type": "stream",
     "text": [
      "num_leaves, val_score: 0.041507:  70%|#######   | 14/20 [02:56<00:35,  5.94s/it]"
     ]
    },
    {
     "name": "stdout",
     "output_type": "stream",
     "text": [
      "Early stopping, best iteration is:\n",
      "[79]\tcv_agg's l2: 0.0415073 + 0.00630741\n",
      "[100]\tcv_agg's l2: 0.042903 + 0.00596717\n"
     ]
    },
    {
     "name": "stderr",
     "output_type": "stream",
     "text": [
      "num_leaves, val_score: 0.041507:  75%|#######5  | 15/20 [03:06<00:34,  6.94s/it]"
     ]
    },
    {
     "name": "stdout",
     "output_type": "stream",
     "text": [
      "Early stopping, best iteration is:\n",
      "[79]\tcv_agg's l2: 0.0415073 + 0.00630741\n",
      "[100]\tcv_agg's l2: 0.0429794 + 0.00631849\n"
     ]
    },
    {
     "name": "stderr",
     "output_type": "stream",
     "text": [
      "num_leaves, val_score: 0.041507:  80%|########  | 16/20 [03:16<00:32,  8.02s/it]"
     ]
    },
    {
     "name": "stdout",
     "output_type": "stream",
     "text": [
      "Early stopping, best iteration is:\n",
      "[79]\tcv_agg's l2: 0.0415073 + 0.00630741\n",
      "[100]\tcv_agg's l2: 0.0431063 + 0.00604919\n"
     ]
    },
    {
     "name": "stderr",
     "output_type": "stream",
     "text": [
      "num_leaves, val_score: 0.041507:  85%|########5 | 17/20 [03:26<00:25,  8.61s/it]"
     ]
    },
    {
     "name": "stdout",
     "output_type": "stream",
     "text": [
      "Early stopping, best iteration is:\n",
      "[79]\tcv_agg's l2: 0.0415073 + 0.00630741\n"
     ]
    },
    {
     "name": "stderr",
     "output_type": "stream",
     "text": [
      "num_leaves, val_score: 0.041507:  90%|######### | 18/20 [03:28<00:12,  6.44s/it]"
     ]
    },
    {
     "name": "stdout",
     "output_type": "stream",
     "text": [
      "[100]\tcv_agg's l2: 0.0420548 + 0.00645266\n",
      "Early stopping, best iteration is:\n",
      "[79]\tcv_agg's l2: 0.0415073 + 0.00630741\n",
      "[100]\tcv_agg's l2: 0.0431286 + 0.00622412\n"
     ]
    },
    {
     "name": "stderr",
     "output_type": "stream",
     "text": [
      "num_leaves, val_score: 0.041507:  95%|#########5| 19/20 [03:42<00:08,  8.82s/it]"
     ]
    },
    {
     "name": "stdout",
     "output_type": "stream",
     "text": [
      "Early stopping, best iteration is:\n",
      "[79]\tcv_agg's l2: 0.0415073 + 0.00630741\n",
      "[100]\tcv_agg's l2: 0.0423573 + 0.00617477\n"
     ]
    },
    {
     "name": "stderr",
     "output_type": "stream",
     "text": [
      "num_leaves, val_score: 0.041507: 100%|##########| 20/20 [03:48<00:00, 11.42s/it]\n",
      "bagging, val_score: 0.041507:   0%|          | 0/10 [00:00<?, ?it/s]"
     ]
    },
    {
     "name": "stdout",
     "output_type": "stream",
     "text": [
      "Early stopping, best iteration is:\n",
      "[79]\tcv_agg's l2: 0.0415073 + 0.00630741\n",
      "[100]\tcv_agg's l2: 0.0416255 + 0.00632218\n"
     ]
    },
    {
     "name": "stderr",
     "output_type": "stream",
     "text": [
      "bagging, val_score: 0.041507:  10%|#         | 1/10 [00:02<00:24,  2.68s/it]"
     ]
    },
    {
     "name": "stdout",
     "output_type": "stream",
     "text": [
      "Early stopping, best iteration is:\n",
      "[79]\tcv_agg's l2: 0.0415073 + 0.00630741\n",
      "[100]\tcv_agg's l2: 0.0417422 + 0.00639618\n"
     ]
    },
    {
     "name": "stderr",
     "output_type": "stream",
     "text": [
      "bagging, val_score: 0.041507:  20%|##        | 2/10 [00:05<00:21,  2.68s/it]"
     ]
    },
    {
     "name": "stdout",
     "output_type": "stream",
     "text": [
      "Early stopping, best iteration is:\n",
      "[79]\tcv_agg's l2: 0.0415073 + 0.00630741\n",
      "[100]\tcv_agg's l2: 0.0416431 + 0.00617632\n"
     ]
    },
    {
     "name": "stderr",
     "output_type": "stream",
     "text": [
      "bagging, val_score: 0.041507:  30%|###       | 3/10 [00:08<00:18,  2.68s/it]"
     ]
    },
    {
     "name": "stdout",
     "output_type": "stream",
     "text": [
      "Early stopping, best iteration is:\n",
      "[79]\tcv_agg's l2: 0.0415073 + 0.00630741\n",
      "[100]\tcv_agg's l2: 0.041846 + 0.00620268\n"
     ]
    },
    {
     "name": "stderr",
     "output_type": "stream",
     "text": [
      "bagging, val_score: 0.041507:  40%|####      | 4/10 [00:10<00:15,  2.52s/it]"
     ]
    },
    {
     "name": "stdout",
     "output_type": "stream",
     "text": [
      "Early stopping, best iteration is:\n",
      "[79]\tcv_agg's l2: 0.0415073 + 0.00630741\n",
      "[100]\tcv_agg's l2: 0.0417255 + 0.00622298\n"
     ]
    },
    {
     "name": "stderr",
     "output_type": "stream",
     "text": [
      "bagging, val_score: 0.041507:  50%|#####     | 5/10 [00:13<00:13,  2.60s/it]"
     ]
    },
    {
     "name": "stdout",
     "output_type": "stream",
     "text": [
      "Early stopping, best iteration is:\n",
      "[79]\tcv_agg's l2: 0.0415073 + 0.00630741\n",
      "[100]\tcv_agg's l2: 0.0417697 + 0.00642059\n"
     ]
    },
    {
     "name": "stderr",
     "output_type": "stream",
     "text": [
      "bagging, val_score: 0.041507:  60%|######    | 6/10 [00:15<00:10,  2.68s/it]"
     ]
    },
    {
     "name": "stdout",
     "output_type": "stream",
     "text": [
      "Early stopping, best iteration is:\n",
      "[79]\tcv_agg's l2: 0.0415073 + 0.00630741\n",
      "[100]\tcv_agg's l2: 0.0416461 + 0.00616867\n"
     ]
    },
    {
     "name": "stderr",
     "output_type": "stream",
     "text": [
      "bagging, val_score: 0.041507:  70%|#######   | 7/10 [00:18<00:07,  2.62s/it]"
     ]
    },
    {
     "name": "stdout",
     "output_type": "stream",
     "text": [
      "Early stopping, best iteration is:\n",
      "[79]\tcv_agg's l2: 0.0415073 + 0.00630741\n",
      "[100]\tcv_agg's l2: 0.0416745 + 0.0064131\n"
     ]
    },
    {
     "name": "stderr",
     "output_type": "stream",
     "text": [
      "bagging, val_score: 0.041507:  80%|########  | 8/10 [00:20<00:05,  2.58s/it]"
     ]
    },
    {
     "name": "stdout",
     "output_type": "stream",
     "text": [
      "Early stopping, best iteration is:\n",
      "[79]\tcv_agg's l2: 0.0415073 + 0.00630741\n",
      "[100]\tcv_agg's l2: 0.0416923 + 0.00599136\n"
     ]
    },
    {
     "name": "stderr",
     "output_type": "stream",
     "text": [
      "bagging, val_score: 0.041485:  90%|######### | 9/10 [00:23<00:02,  2.51s/it]"
     ]
    },
    {
     "name": "stdout",
     "output_type": "stream",
     "text": [
      "Early stopping, best iteration is:\n",
      "[71]\tcv_agg's l2: 0.0414854 + 0.00616185\n",
      "[100]\tcv_agg's l2: 0.0418053 + 0.00613874\n"
     ]
    },
    {
     "name": "stderr",
     "output_type": "stream",
     "text": [
      "bagging, val_score: 0.041485: 100%|##########| 10/10 [00:25<00:00,  2.56s/it]\n",
      "feature_fraction_stage2, val_score: 0.041485:   0%|          | 0/6 [00:00<?, ?it/s]"
     ]
    },
    {
     "name": "stdout",
     "output_type": "stream",
     "text": [
      "Early stopping, best iteration is:\n",
      "[71]\tcv_agg's l2: 0.0414854 + 0.00616185\n",
      "[100]\tcv_agg's l2: 0.0415499 + 0.00614658\n"
     ]
    },
    {
     "name": "stderr",
     "output_type": "stream",
     "text": [
      "feature_fraction_stage2, val_score: 0.041468:  17%|#6        | 1/6 [00:02<00:12,  2.54s/it]"
     ]
    },
    {
     "name": "stdout",
     "output_type": "stream",
     "text": [
      "Early stopping, best iteration is:\n",
      "[81]\tcv_agg's l2: 0.0414683 + 0.00621015\n",
      "[100]\tcv_agg's l2: 0.0416824 + 0.00614084\n"
     ]
    },
    {
     "name": "stderr",
     "output_type": "stream",
     "text": [
      "feature_fraction_stage2, val_score: 0.041468:  33%|###3      | 2/6 [00:04<00:09,  2.43s/it]"
     ]
    },
    {
     "name": "stdout",
     "output_type": "stream",
     "text": [
      "Early stopping, best iteration is:\n",
      "[81]\tcv_agg's l2: 0.0414683 + 0.00621015\n",
      "[100]\tcv_agg's l2: 0.0417436 + 0.00623898\n"
     ]
    },
    {
     "name": "stderr",
     "output_type": "stream",
     "text": [
      "feature_fraction_stage2, val_score: 0.041468:  50%|#####     | 3/6 [00:07<00:07,  2.48s/it]"
     ]
    },
    {
     "name": "stdout",
     "output_type": "stream",
     "text": [
      "Early stopping, best iteration is:\n",
      "[81]\tcv_agg's l2: 0.0414683 + 0.00621015\n",
      "[100]\tcv_agg's l2: 0.0418537 + 0.00601142\n"
     ]
    },
    {
     "name": "stderr",
     "output_type": "stream",
     "text": [
      "feature_fraction_stage2, val_score: 0.041468:  67%|######6   | 4/6 [00:10<00:05,  2.64s/it]"
     ]
    },
    {
     "name": "stdout",
     "output_type": "stream",
     "text": [
      "Early stopping, best iteration is:\n",
      "[81]\tcv_agg's l2: 0.0414683 + 0.00621015\n",
      "[100]\tcv_agg's l2: 0.0418662 + 0.0061528\n"
     ]
    },
    {
     "name": "stderr",
     "output_type": "stream",
     "text": [
      "feature_fraction_stage2, val_score: 0.041468:  83%|########3 | 5/6 [00:12<00:02,  2.56s/it]"
     ]
    },
    {
     "name": "stdout",
     "output_type": "stream",
     "text": [
      "Early stopping, best iteration is:\n",
      "[81]\tcv_agg's l2: 0.0414683 + 0.00621015\n",
      "[100]\tcv_agg's l2: 0.0415559 + 0.00622034\n"
     ]
    },
    {
     "name": "stderr",
     "output_type": "stream",
     "text": [
      "feature_fraction_stage2, val_score: 0.041397: 100%|##########| 6/6 [00:15<00:00,  2.52s/it]\n",
      "regularization_factors, val_score: 0.041397:   0%|          | 0/20 [00:00<?, ?it/s]"
     ]
    },
    {
     "name": "stdout",
     "output_type": "stream",
     "text": [
      "Early stopping, best iteration is:\n",
      "[70]\tcv_agg's l2: 0.0413968 + 0.00634108\n",
      "[100]\tcv_agg's l2: 0.0415486 + 0.0062189\n"
     ]
    },
    {
     "name": "stderr",
     "output_type": "stream",
     "text": [
      "regularization_factors, val_score: 0.041397:   5%|5         | 1/20 [00:02<00:51,  2.70s/it]"
     ]
    },
    {
     "name": "stdout",
     "output_type": "stream",
     "text": [
      "Early stopping, best iteration is:\n",
      "[70]\tcv_agg's l2: 0.0413968 + 0.00634108\n",
      "[100]\tcv_agg's l2: 0.0415559 + 0.00622034\n"
     ]
    },
    {
     "name": "stderr",
     "output_type": "stream",
     "text": [
      "regularization_factors, val_score: 0.041397:  10%|#         | 2/20 [00:05<00:48,  2.70s/it]"
     ]
    },
    {
     "name": "stdout",
     "output_type": "stream",
     "text": [
      "Early stopping, best iteration is:\n",
      "[70]\tcv_agg's l2: 0.0413968 + 0.00634108\n",
      "[100]\tcv_agg's l2: 0.0415532 + 0.00605553\n"
     ]
    },
    {
     "name": "stderr",
     "output_type": "stream",
     "text": [
      "regularization_factors, val_score: 0.041397:  15%|#5        | 3/20 [00:08<00:47,  2.80s/it]"
     ]
    },
    {
     "name": "stdout",
     "output_type": "stream",
     "text": [
      "Early stopping, best iteration is:\n",
      "[70]\tcv_agg's l2: 0.0413968 + 0.00634108\n",
      "[100]\tcv_agg's l2: 0.0415721 + 0.0062218\n"
     ]
    },
    {
     "name": "stderr",
     "output_type": "stream",
     "text": [
      "regularization_factors, val_score: 0.041397:  20%|##        | 4/20 [00:11<00:45,  2.81s/it]"
     ]
    },
    {
     "name": "stdout",
     "output_type": "stream",
     "text": [
      "Early stopping, best iteration is:\n",
      "[70]\tcv_agg's l2: 0.0413968 + 0.00634108\n",
      "[100]\tcv_agg's l2: 0.0413076 + 0.00609329\n"
     ]
    },
    {
     "name": "stderr",
     "output_type": "stream",
     "text": [
      "regularization_factors, val_score: 0.041281:  25%|##5       | 5/20 [00:15<00:48,  3.26s/it]"
     ]
    },
    {
     "name": "stdout",
     "output_type": "stream",
     "text": [
      "Early stopping, best iteration is:\n",
      "[144]\tcv_agg's l2: 0.0412814 + 0.0060519\n",
      "[100]\tcv_agg's l2: 0.041543 + 0.00608319\n"
     ]
    },
    {
     "name": "stderr",
     "output_type": "stream",
     "text": [
      "regularization_factors, val_score: 0.041281:  30%|###       | 6/20 [00:19<00:50,  3.60s/it]"
     ]
    },
    {
     "name": "stdout",
     "output_type": "stream",
     "text": [
      "Early stopping, best iteration is:\n",
      "[144]\tcv_agg's l2: 0.0412814 + 0.0060519\n",
      "[100]\tcv_agg's l2: 0.0415871 + 0.00627041\n"
     ]
    },
    {
     "name": "stderr",
     "output_type": "stream",
     "text": [
      "regularization_factors, val_score: 0.041281:  35%|###5      | 7/20 [00:24<00:52,  4.03s/it]"
     ]
    },
    {
     "name": "stdout",
     "output_type": "stream",
     "text": [
      "Early stopping, best iteration is:\n",
      "[144]\tcv_agg's l2: 0.0412814 + 0.0060519\n",
      "[100]\tcv_agg's l2: 0.0417153 + 0.006039\n"
     ]
    },
    {
     "name": "stderr",
     "output_type": "stream",
     "text": [
      "regularization_factors, val_score: 0.041281:  40%|####      | 8/20 [00:29<00:51,  4.30s/it]"
     ]
    },
    {
     "name": "stdout",
     "output_type": "stream",
     "text": [
      "Early stopping, best iteration is:\n",
      "[144]\tcv_agg's l2: 0.0412814 + 0.0060519\n",
      "[100]\tcv_agg's l2: 0.0415683 + 0.00627299\n"
     ]
    },
    {
     "name": "stderr",
     "output_type": "stream",
     "text": [
      "regularization_factors, val_score: 0.041281:  45%|####5     | 9/20 [00:33<00:47,  4.36s/it]"
     ]
    },
    {
     "name": "stdout",
     "output_type": "stream",
     "text": [
      "Early stopping, best iteration is:\n",
      "[144]\tcv_agg's l2: 0.0412814 + 0.0060519\n",
      "[100]\tcv_agg's l2: 0.0415485 + 0.0062189\n"
     ]
    },
    {
     "name": "stderr",
     "output_type": "stream",
     "text": [
      "regularization_factors, val_score: 0.041281:  50%|#####     | 10/20 [00:38<00:43,  4.33s/it]"
     ]
    },
    {
     "name": "stdout",
     "output_type": "stream",
     "text": [
      "Early stopping, best iteration is:\n",
      "[144]\tcv_agg's l2: 0.0412814 + 0.0060519\n",
      "[100]\tcv_agg's l2: 0.0414569 + 0.00633652\n"
     ]
    },
    {
     "name": "stderr",
     "output_type": "stream",
     "text": [
      "regularization_factors, val_score: 0.041281:  55%|#####5    | 11/20 [00:42<00:38,  4.28s/it]"
     ]
    },
    {
     "name": "stdout",
     "output_type": "stream",
     "text": [
      "Early stopping, best iteration is:\n",
      "[144]\tcv_agg's l2: 0.0412814 + 0.0060519\n",
      "[100]\tcv_agg's l2: 0.0412744 + 0.00631558\n"
     ]
    },
    {
     "name": "stderr",
     "output_type": "stream",
     "text": [
      "regularization_factors, val_score: 0.041217:  60%|######    | 12/20 [00:46<00:34,  4.28s/it]"
     ]
    },
    {
     "name": "stdout",
     "output_type": "stream",
     "text": [
      "Early stopping, best iteration is:\n",
      "[124]\tcv_agg's l2: 0.0412172 + 0.00625228\n",
      "[100]\tcv_agg's l2: 0.0413518 + 0.00628583\n"
     ]
    },
    {
     "name": "stderr",
     "output_type": "stream",
     "text": [
      "regularization_factors, val_score: 0.041217:  65%|######5   | 13/20 [00:50<00:28,  4.13s/it]"
     ]
    },
    {
     "name": "stdout",
     "output_type": "stream",
     "text": [
      "Early stopping, best iteration is:\n",
      "[124]\tcv_agg's l2: 0.0412172 + 0.00625228\n",
      "[100]\tcv_agg's l2: 0.0415559 + 0.00622034\n"
     ]
    },
    {
     "name": "stderr",
     "output_type": "stream",
     "text": [
      "regularization_factors, val_score: 0.041217:  70%|#######   | 14/20 [00:54<00:24,  4.05s/it]"
     ]
    },
    {
     "name": "stdout",
     "output_type": "stream",
     "text": [
      "Early stopping, best iteration is:\n",
      "[124]\tcv_agg's l2: 0.0412172 + 0.00625228\n",
      "[100]\tcv_agg's l2: 0.0415821 + 0.00611079\n"
     ]
    },
    {
     "name": "stderr",
     "output_type": "stream",
     "text": [
      "regularization_factors, val_score: 0.041217:  75%|#######5  | 15/20 [00:58<00:20,  4.05s/it]"
     ]
    },
    {
     "name": "stdout",
     "output_type": "stream",
     "text": [
      "Early stopping, best iteration is:\n",
      "[124]\tcv_agg's l2: 0.0412172 + 0.00625228\n",
      "[100]\tcv_agg's l2: 0.0414741 + 0.00610834\n"
     ]
    },
    {
     "name": "stderr",
     "output_type": "stream",
     "text": [
      "regularization_factors, val_score: 0.041217:  80%|########  | 16/20 [01:02<00:15,  3.99s/it]"
     ]
    },
    {
     "name": "stdout",
     "output_type": "stream",
     "text": [
      "Early stopping, best iteration is:\n",
      "[124]\tcv_agg's l2: 0.0412172 + 0.00625228\n",
      "[100]\tcv_agg's l2: 0.0417406 + 0.00607744\n"
     ]
    },
    {
     "name": "stderr",
     "output_type": "stream",
     "text": [
      "regularization_factors, val_score: 0.041217:  85%|########5 | 17/20 [01:05<00:11,  3.88s/it]"
     ]
    },
    {
     "name": "stdout",
     "output_type": "stream",
     "text": [
      "Early stopping, best iteration is:\n",
      "[124]\tcv_agg's l2: 0.0412172 + 0.00625228\n",
      "[100]\tcv_agg's l2: 0.0415249 + 0.00600003\n"
     ]
    },
    {
     "name": "stderr",
     "output_type": "stream",
     "text": [
      "regularization_factors, val_score: 0.041217:  90%|######### | 18/20 [01:09<00:07,  3.85s/it]"
     ]
    },
    {
     "name": "stdout",
     "output_type": "stream",
     "text": [
      "Early stopping, best iteration is:\n",
      "[124]\tcv_agg's l2: 0.0412172 + 0.00625228\n",
      "[100]\tcv_agg's l2: 0.0413939 + 0.00620603\n"
     ]
    },
    {
     "name": "stderr",
     "output_type": "stream",
     "text": [
      "regularization_factors, val_score: 0.041217:  95%|#########5| 19/20 [01:13<00:03,  3.90s/it]"
     ]
    },
    {
     "name": "stdout",
     "output_type": "stream",
     "text": [
      "Early stopping, best iteration is:\n",
      "[124]\tcv_agg's l2: 0.0412172 + 0.00625228\n",
      "[100]\tcv_agg's l2: 0.0416484 + 0.0061111\n"
     ]
    },
    {
     "name": "stderr",
     "output_type": "stream",
     "text": [
      "regularization_factors, val_score: 0.041217: 100%|##########| 20/20 [01:17<00:00,  3.87s/it]\n",
      "min_data_in_leaf, val_score: 0.041217:   0%|          | 0/5 [00:00<?, ?it/s]"
     ]
    },
    {
     "name": "stdout",
     "output_type": "stream",
     "text": [
      "Early stopping, best iteration is:\n",
      "[124]\tcv_agg's l2: 0.0412172 + 0.00625228\n",
      "[100]\tcv_agg's l2: 0.0412314 + 0.00633994\n"
     ]
    },
    {
     "name": "stderr",
     "output_type": "stream",
     "text": [
      "min_data_in_leaf, val_score: 0.041198:  20%|##        | 1/5 [00:02<00:10,  2.61s/it]"
     ]
    },
    {
     "name": "stdout",
     "output_type": "stream",
     "text": [
      "Early stopping, best iteration is:\n",
      "[70]\tcv_agg's l2: 0.0411983 + 0.00638189\n",
      "[100]\tcv_agg's l2: 0.0411808 + 0.00628585\n"
     ]
    },
    {
     "name": "stderr",
     "output_type": "stream",
     "text": [
      "min_data_in_leaf, val_score: 0.041171:  40%|####      | 2/5 [00:05<00:08,  2.80s/it]"
     ]
    },
    {
     "name": "stdout",
     "output_type": "stream",
     "text": [
      "Early stopping, best iteration is:\n",
      "[102]\tcv_agg's l2: 0.0411707 + 0.00624593\n",
      "[100]\tcv_agg's l2: 0.0412345 + 0.00632058\n"
     ]
    },
    {
     "name": "stderr",
     "output_type": "stream",
     "text": [
      "min_data_in_leaf, val_score: 0.041171:  60%|######    | 3/5 [00:08<00:06,  3.05s/it]"
     ]
    },
    {
     "name": "stdout",
     "output_type": "stream",
     "text": [
      "Early stopping, best iteration is:\n",
      "[102]\tcv_agg's l2: 0.0411707 + 0.00624593\n",
      "[100]\tcv_agg's l2: 0.0412124 + 0.0063382\n"
     ]
    },
    {
     "name": "stderr",
     "output_type": "stream",
     "text": [
      "min_data_in_leaf, val_score: 0.041171:  80%|########  | 4/5 [00:12<00:03,  3.25s/it]"
     ]
    },
    {
     "name": "stdout",
     "output_type": "stream",
     "text": [
      "Early stopping, best iteration is:\n",
      "[102]\tcv_agg's l2: 0.0411707 + 0.00624593\n",
      "[100]\tcv_agg's l2: 0.0412342 + 0.00636984\n"
     ]
    },
    {
     "name": "stderr",
     "output_type": "stream",
     "text": [
      "min_data_in_leaf, val_score: 0.041171: 100%|##########| 5/5 [00:16<00:00,  3.22s/it]"
     ]
    },
    {
     "name": "stdout",
     "output_type": "stream",
     "text": [
      "Early stopping, best iteration is:\n",
      "[102]\tcv_agg's l2: 0.0411707 + 0.00624593\n",
      "Best score: 0.041170683760727175\n",
      "Best params: {'objective': 'regression', 'metric': 'l2', 'boosting_type': 'gbdt', 'verbosity': -1, 'feature_pre_filter': False, 'lambda_l1': 6.141505863595467, 'lambda_l2': 0.02312962452946973, 'num_leaves': 8, 'feature_fraction': 0.6479999999999999, 'bagging_fraction': 0.6319269943247444, 'bagging_freq': 1, 'min_child_samples': 100}\n",
      "  Params: \n",
      "    objective: regression\n",
      "    metric: l2\n",
      "    boosting_type: gbdt\n",
      "    verbosity: -1\n",
      "    feature_pre_filter: False\n",
      "    lambda_l1: 6.141505863595467\n",
      "    lambda_l2: 0.02312962452946973\n",
      "    num_leaves: 8\n",
      "    feature_fraction: 0.6479999999999999\n",
      "    bagging_fraction: 0.6319269943247444\n",
      "    bagging_freq: 1\n",
      "    min_child_samples: 100\n",
      "saving model\n"
     ]
    },
    {
     "name": "stderr",
     "output_type": "stream",
     "text": [
      "\n"
     ]
    }
   ],
   "source": [
    "model_D = SentimentClassifier()\n",
    "model_D.fit(f, df.D.values)\n",
    "model_D.save(Path('boosters')/'D')"
   ]
  },
  {
   "cell_type": "code",
   "execution_count": null,
   "metadata": {},
   "outputs": [],
   "source": []
  }
 ],
 "metadata": {
  "kernelspec": {
   "display_name": "Python 3",
   "language": "python",
   "name": "python3"
  },
  "language_info": {
   "codemirror_mode": {
    "name": "ipython",
    "version": 3
   },
   "file_extension": ".py",
   "mimetype": "text/x-python",
   "name": "python",
   "nbconvert_exporter": "python",
   "pygments_lexer": "ipython3",
   "version": "3.8.5"
  },
  "latex_envs": {
   "LaTeX_envs_menu_present": true,
   "autoclose": false,
   "autocomplete": true,
   "bibliofile": "biblio.bib",
   "cite_by": "apalike",
   "current_citInitial": 1,
   "eqLabelWithNumbers": true,
   "eqNumInitial": 1,
   "hotkeys": {
    "equation": "Ctrl-E",
    "itemize": "Ctrl-I"
   },
   "labels_anchors": false,
   "latex_user_defs": false,
   "report_style_numbering": false,
   "user_envs_cfg": false
  }
 },
 "nbformat": 4,
 "nbformat_minor": 4
}
