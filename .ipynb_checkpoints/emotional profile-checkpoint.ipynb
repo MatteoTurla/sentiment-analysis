{
 "cells": [
  {
   "cell_type": "code",
   "execution_count": 1,
   "metadata": {},
   "outputs": [],
   "source": [
    "import pandas as pd\n",
    "from pathlib import Path\n",
    "from matplotlib import pyplot as plt\n",
    "import plotly.express as px\n",
    "import plotly.graph_objects as go\n",
    "import numpy as np"
   ]
  },
  {
   "cell_type": "code",
   "execution_count": 2,
   "metadata": {},
   "outputs": [
    {
     "name": "stdout",
     "output_type": "stream",
     "text": [
      "Downloading movie-corpus to /Users/matteoturla/.convokit/downloads/movie-corpus\n",
      "Downloading movie-corpus from http://zissou.infosci.cornell.edu/convokit/datasets/movie-corpus/movie-corpus.zip (40.9MB)... Done\n"
     ]
    }
   ],
   "source": [
    "from convokit import Corpus, download\n",
    "corpus = Corpus(filename=download(\"movie-corpus\"))"
   ]
  },
  {
   "cell_type": "code",
   "execution_count": 3,
   "metadata": {},
   "outputs": [
    {
     "data": {
      "text/plain": [
       "array(['10 things i hate about you', '1492: conquest of paradise',\n",
       "       '15 minutes', '2001: a space odyssey', '48 hrs.',\n",
       "       'the fifth element', '8mm',\n",
       "       'a nightmare on elm street 4: the dream master',\n",
       "       'a nightmare on elm street: the dream child',\n",
       "       'the atomic submarine', 'affliction', 'air force one',\n",
       "       'airplane ii: the sequel', 'airplane!', 'alien nation', 'aliens',\n",
       "       'amadeus', 'an american werewolf in london', 'american madness',\n",
       "       'american outlaws', 'american psycho', 'antitrust',\n",
       "       'austin powers: international man of mystery', 'the avengers',\n",
       "       'bachelor party', 'backdraft', 'bad lieutenant', 'bamboozled',\n",
       "       'barry lyndon', 'basic', 'big fish', 'birthday girl',\n",
       "       'black snake moan', 'black rain', 'blade runner',\n",
       "       'blast from the past', 'blue velvet', 'the boondock saints',\n",
       "       'bottle rocket', 'the bourne supremacy', 'braveheart',\n",
       "       'the butterfly effect', 'casablanca', 'cast away',\n",
       "       'the cider house rules', 'confidence', 'croupier', 'dark star',\n",
       "       'dark angel', 'detroit rock city', 'donnie darko',\n",
       "       'drop dead gorgeous', 'duck soup', 'the elephant man',\n",
       "       'erik the viking', 'eternal sunshine of the spotless mind',\n",
       "       'even cowgirls get the blues', 'event horizon', 'fantastic four',\n",
       "       'fast times at ridgemont high', 'fear and loathing in las vegas',\n",
       "       'feast', 'frances', 'frankenstein', 'friday the 13th',\n",
       "       'from dusk till dawn', 'g.i. jane', 'godzilla', 'galaxy quest',\n",
       "       'george washington', 'get shorty', 'ghost ship', 'ghost world',\n",
       "       'the ghost and the darkness', 'ghostbusters ii', 'ghostbusters',\n",
       "       'gladiator', 'the graduate', 'grand hotel', 'the grifters',\n",
       "       'halloween h20: 20 years later',\n",
       "       'halloween: the curse of michael myers',\n",
       "       'happy birthday, wanda june', 'hardcore', 'harold and maude',\n",
       "       'hellbound: hellraiser ii', 'hellboy', 'hellraiser',\n",
       "       'high fidelity', 'highlander', 'his girl friday', 'hope and glory',\n",
       "       'house of 1000 corpses', 'human nature', 'the hustler',\n",
       "       'i am legend', 'invaders from mars', 'independence day',\n",
       "       'indiana jones and the last crusade',\n",
       "       'indiana jones and the temple of doom', 'innerspace',\n",
       "       'the insider', 'intolerable cruelty', 'it happened one night',\n",
       "       'jfk', 'jackie brown', \"jacob's ladder\", 'jason x', 'jaws', 'juno',\n",
       "       'kalifornia', 'kids', 'knight moves', 'krull', 'lon',\n",
       "       'labor of love', 'leaving las vegas', 'legally blonde', 'legend',\n",
       "       'life as a house', 'the life of david gale', 'little nicky',\n",
       "       \"logan's run\", 'lost highway', 'lost horizon', 'men in black',\n",
       "       'minority report', 'made', 'malcolm x', 'man on fire', 'marty',\n",
       "       'mash', 'meet john doe', 'metro', 'metropolis',\n",
       "       'mighty morphin power rangers', 'mobsters', 'monkeybone',\n",
       "       \"my mother dreams the satan's disciples in new york\",\n",
       "       'mr. smith goes to washington', 'mr. deeds goes to town',\n",
       "       'mumford', 'the mummy', 'mystery men', 'napoleon', 'next friday',\n",
       "       'nick of time', 'the night of the hunter',\n",
       "       'a nightmare on elm street', 'ninotchka', 'nixon',\n",
       "       'no country for old men', 'nurse betty',\n",
       "       'o brother, where art thou?', 'an officer and a gentleman',\n",
       "       'panic room', 'panther', 'the patriot', 'pet sematary',\n",
       "       'pirates of the caribbean', 'plastic man', 'platinum blonde',\n",
       "       'pleasantville', 'punch-drunk love', 'quills', 'rko 281',\n",
       "       'raging bull', 'rear window', 'rebel without a cause',\n",
       "       'reindeer games', 'reservoir dogs', 'roughshod', 'scary movie 2',\n",
       "       'serial mom', 'the seventh victim', 'sex, lies, and videotape',\n",
       "       'shivers', 'shock treatment', 'sideways', 'signs', 'silverado',\n",
       "       'simone', 'the sixth sense', 'slash', 'slither',\n",
       "       'smokey and the bandit', \"smokin' aces\", 'solaris',\n",
       "       'someone to watch over me', 'spider-man', 'stalag 17',\n",
       "       'star trek: generations', 'star trek iii: the search for spock',\n",
       "       'star trek: the wrath of khan', 'star trek iv: the voyage home',\n",
       "       'star trek: insurrection', 'star trek: first contact',\n",
       "       'star trek vi: the undiscovered country', 'star trek: nemesis',\n",
       "       'starman', 'strange days', 'suspect zero', 'swingers',\n",
       "       'the godfather', 'the talented mr. ripley', 'taxi driver',\n",
       "       'the rock', 'the majestic', 'the birds', 'the body snatcher',\n",
       "       'the crow: salvation', 'the day the earth stood still',\n",
       "       'the lost boys', 'the thing', 'the time machine', 'the jacket',\n",
       "       'thelma & louise', \"there's something about mary\", 'thirteen days',\n",
       "       'thunderheart', 'top gun', 'total recall', 'tremors',\n",
       "       'true believer', 'twin peaks: fire walk with me', 'the verdict',\n",
       "       'the war of the worlds', 'new nightmare', 'white squall',\n",
       "       'wild at heart', 'wonder boys', 'the woodsman', 'the abyss',\n",
       "       \"l'avventura\", 'agnes of god', \"a hard day's night\", 'alien',\n",
       "       'alien vs. predator', 'all about eve', \"all the president's men\",\n",
       "       'american pie', 'an american werewolf in paris', 'anastasia',\n",
       "       'annie hall', 'the anniversary party', 'antz', 'the apartment',\n",
       "       'apocalypse now', 'arctic blue', 'as good as it gets', 'assassins',\n",
       "       'asylum', 'a walk to remember', 'back to the future', 'badlands',\n",
       "       'the adventures of buckaroo banzai across the 8th dimension',\n",
       "       'barton fink', 'basic instinct', 'basquiat', 'batman returns',\n",
       "       'batman and robin', 'batman forever', 'batman', 'bean',\n",
       "       'beavis and butt-head do america', 'beetle juice', 'being there',\n",
       "       'being john malkovich', 'beloved', 'the big lebowski',\n",
       "       'the black dahlia', 'blade ii', 'blade',\n",
       "       'book of shadows: blair witch 2', 'blood simple.', 'bloodmoon',\n",
       "       'blow', 'la battaglia di algeri', 'body of evidence',\n",
       "       'the bridges of madison county', 'bones', 'bound',\n",
       "       'the bourne identity', 'brazil', 'bringing out the dead',\n",
       "       'broadcast news', 'a bucket of blood', 'buffy the vampire slayer',\n",
       "       'bull durham', 'casino', 'catwoman', 'cellular', 'the crying game',\n",
       "       'charade', 'cherry falls', 'chill factor', 'chinatown',\n",
       "       'nuovo cinema paradiso', 'citizen kane', 'clerks.', 'cliffhanger',\n",
       "       'a clockwork orange', 'collateral', 'conspiracy theory', 'contact',\n",
       "       'cool hand luke', 'copycat', 'crash', 'crazy love', 'crime spree',\n",
       "       'crouching tiger, hidden dragon', 'the crow', 'cruel intentions',\n",
       "       'the curse of the cat people', 'the curse', 'dark city', 'dave',\n",
       "       'day of the dead', 'dead poets society', 'deep rising',\n",
       "       'the deer hunter', 'demolition man',\n",
       "       'the devil and daniel webster', 'die hard', 'dog day afternoon',\n",
       "       'domino', 'do the right thing',\n",
       "       'dumb and dumberer: when harry met lloyd', 'dune', 'ed wood',\n",
       "       'edtv', 'election', 'l.a. confidential', 'enemy of the state',\n",
       "       'the english patient', 'entrapment', 'erin brockovich',\n",
       "       'star wars: the empire strikes back',\n",
       "       'escape from the planet of the apes', 'escape from l.a.',\n",
       "       'excalibur', 'the exorcist', 'the fabulous baker boys', 'face/off',\n",
       "       'the family man', 'the fantastic four', 'fantastic voyage',\n",
       "       'fargo', 'fight club', 'final destination 2', 'final destination',\n",
       "       'rambo: first blood part ii', 'the fisher king',\n",
       "       'five easy pieces', 'five feet high and rising', 'fletch',\n",
       "       'the adventures of ford fairlane', 'the french connection',\n",
       "       'frequency', 'friday the 13th part iii',\n",
       "       'jason lives: friday the 13th part vi',\n",
       "       'jason goes to hell: the final friday',\n",
       "       'friday the 13th part viii: jason takes manhattan', 'game 6',\n",
       "       'gandhi', 'gattaca', 'the getaway', 'get carter',\n",
       "       'glengarry glen ross', 'the godfather: part ii',\n",
       "       'gods and monsters', 'gone in sixty seconds', 'goodfellas',\n",
       "       'good will hunting', 'the grapes of wrath', 'grosse pointe blank',\n",
       "       'the horse whisperer', 'hackers',\n",
       "       'halloween 4: the return of michael myers', 'halloween',\n",
       "       'hannah and her sisters', 'hannibal', 'happy campers', 'heathers',\n",
       "       'heavenly creatures', 'hellraiser: hellseeker', 'hero',\n",
       "       'hider in the house', 'highlander iii: the sorcerer', 'hostage',\n",
       "       'hotel rwanda', 'house on haunted hill', 'house of the damned',\n",
       "       'hellraiser iii: hell on earth', 'hudson hawk',\n",
       "       'the hudsucker proxy', 'i walked with a zombie', 'the ice storm',\n",
       "       'insomnia', 'interview with the vampire: the vampire chronicles',\n",
       "       'i still know what you did last summer', 'isle of the dead',\n",
       "       \"it's a wonderful life\", 'jaws 2', 'jaws 3-d', 'jaws: the revenge',\n",
       "       'the jazz singer', 'jennifer eight', 'jerry maguire',\n",
       "       'jurassic park iii', 'the lost world: jurassic park',\n",
       "       'jurassic park', 'freddy vs. jason', 'kafka', 'king kong', 'klute',\n",
       "       'kramer vs. kramer', 'kundun', 'lake placid',\n",
       "       'the silence of the lambs', 'last of the mohicans', 'leviathan',\n",
       "       'lock, stock and two smoking barrels', 'lone star',\n",
       "       'lord of illusions', 'lost in translation', 'lost souls',\n",
       "       'love & basketball', 'magnolia', 'the man in the iron mask',\n",
       "       'manhunt', 'manhunter', 'man on the moon', 'the matrix',\n",
       "       'halloween iii: season of the witch', 'meet joe black', 'memento',\n",
       "       'miami vice', 'midnight cowboy', 'midnight express', 'mimic',\n",
       "       'misery', 'mission: impossible ii', 'mission: impossible',\n",
       "       'moonstruck', 'monty python and the holy grail', 'mrs brown',\n",
       "       'arcade', 'mulholland dr.', '\"murderland\"', 'my girl 2', 'my girl',\n",
       "       \"my best friend's wedding\", 'nashville', 'natural born killers',\n",
       "       'nothing but a man', 'the negotiator', 'neuromancer',\n",
       "       'never been kissed', 'the nightmare before christmas',\n",
       "       \"a nightmare on elm street part 2: freddy's revenge\",\n",
       "       'a nightmare on elm street 3: dream warriors', 'notting hill',\n",
       "       \"one flew over the cuckoo's nest\", 'only you', 'on the waterfront',\n",
       "       'orgy of the dead', 'out of sight', 'pearl harbor',\n",
       "       'peggy sue got married', 'pet sematary ii', 'philadelphia',\n",
       "       'pitch black', 'planet of the apes', 'platoon', 'playback',\n",
       "       \"the ploughman's lunch\", 'point break', 'predator', 'pretty woman',\n",
       "       'the princess bride', 'the producers', 'psycho', 'maniac',\n",
       "       'vampyr', 'mystery of the wax museum', 'quantum project',\n",
       "       'rambling rose', 'red white black & blue',\n",
       "       'star wars: episode vi - return of the jedi',\n",
       "       'the rocky horror picture show', 'rocky',\n",
       "       'who framed roger rabbit', 'romeo and juliet', 'ronin', 'route 9',\n",
       "       'rush hour 2', 'rush hour', 'runaway bride',\n",
       "       'sleepless in seattle', 'salt of the earth', 'the salton sea',\n",
       "       'saving private ryan', 'say anything...', \"schindler's list\",\n",
       "       'scream 2', 'scream 3', 'scream', 'seven', 'the searchers',\n",
       "       'seven days to live', 'shakespeare in love', 'shallow grave',\n",
       "       'shampoo', 'the shining', 'silver bullet', 'sister act',\n",
       "       'sleepy hollow', 'sling blade', 'smoke', 'snow falling on cedars',\n",
       "       'soldier', 'some like it hot', 'the wedding date', 'sounder',\n",
       "       'south park: bigger longer & uncut', 'spacejacked', 'spare me',\n",
       "       'sphere', 'star wars', 'starship troopers',\n",
       "       'star trek: the motion picture', 'state and main', 'stepmom',\n",
       "       'storytelling', 'stranglehold',\n",
       "       'dr. strangelove or: how i learned to stop worrying and love the bomb',\n",
       "       'suburbia', 'sugar & spice', 'sunset blvd.', 'supergirl',\n",
       "       'superman iii', 'superman ii', 'superman iv: the quest for peace',\n",
       "       'superman', 'the sweet hereafter', 'sweet smell of success',\n",
       "       'terminator 2: judgment day', 'taking sides', 'the terminator',\n",
       "       'the game', 'the haunting', 'the limey',\n",
       "       \"the man who wasn't there\", 'the relic', 'the truman show',\n",
       "       'the x files', 'the cell', 'the third man', 'the beach',\n",
       "       'the believer', 'le grand bleu', 'the hebrew hammer',\n",
       "       'the leopard man', 'the lost son', 'the messenger', 'the pianist',\n",
       "       'the piano', 'the sting', 'the thin man', 'three kings',\n",
       "       'thx 1138', 'ticker', 'trouble in paradise', 'titanic',\n",
       "       'transatlantic merry-go-round', 'tombstone', 'tomorrow never dies',\n",
       "       'to sleep with anger', 'toy story', 'the magic toyshop', 'traffic',\n",
       "       'trainspotting', 'star trek v: the final frontier', 'tron',\n",
       "       'true lies', 'true romance', 'twelve monkeys', 'u-turn', 'u turn',\n",
       "       'unbreakable', 'unforgiven', 'the usual suspects', 'verdict',\n",
       "       'vertigo', 'very bad things', 'viridiana', 'virtuosity',\n",
       "       'wag the dog', 'wall street', 'waxwork', 'what lies beneath',\n",
       "       'what women want', 'the witching hour', 'white angel',\n",
       "       \"who's your daddy?\", 'wild things', 'wild wild west', 'willow',\n",
       "       'witness', 'the wizard of oz', 'the world is not enough',\n",
       "       'watchmen', 'xxx', 'x-men', 'young frankenstein', 'zulu dawn'],\n",
       "      dtype=object)"
      ]
     },
     "execution_count": 3,
     "metadata": {},
     "output_type": "execute_result"
    }
   ],
   "source": [
    "speakers = corpus.get_speakers_dataframe()\n",
    "speakers['meta.movie_name'].unique()"
   ]
  },
  {
   "cell_type": "code",
   "execution_count": 67,
   "metadata": {},
   "outputs": [],
   "source": [
    "mv_idx = speakers[speakers['meta.movie_name'] == 'toy story']['meta.movie_idx'].iloc[0]"
   ]
  },
  {
   "cell_type": "code",
   "execution_count": 68,
   "metadata": {},
   "outputs": [],
   "source": [
    "utt = corpus.get_utterances_dataframe(selector = lambda x: x.retrieve_meta('movie_id')==mv_idx).reset_index()"
   ]
  },
  {
   "cell_type": "code",
   "execution_count": 69,
   "metadata": {},
   "outputs": [],
   "source": [
    "utt = utt.sort_values(by='id')"
   ]
  },
  {
   "cell_type": "code",
   "execution_count": 70,
   "metadata": {},
   "outputs": [
    {
     "data": {
      "text/html": [
       "<div>\n",
       "<style scoped>\n",
       "    .dataframe tbody tr th:only-of-type {\n",
       "        vertical-align: middle;\n",
       "    }\n",
       "\n",
       "    .dataframe tbody tr th {\n",
       "        vertical-align: top;\n",
       "    }\n",
       "\n",
       "    .dataframe thead th {\n",
       "        text-align: right;\n",
       "    }\n",
       "</style>\n",
       "<table border=\"1\" class=\"dataframe\">\n",
       "  <thead>\n",
       "    <tr style=\"text-align: right;\">\n",
       "      <th></th>\n",
       "      <th>id</th>\n",
       "      <th>timestamp</th>\n",
       "      <th>text</th>\n",
       "      <th>speaker</th>\n",
       "      <th>reply_to</th>\n",
       "      <th>conversation_id</th>\n",
       "      <th>meta.movie_id</th>\n",
       "      <th>meta.parsed</th>\n",
       "      <th>vectors</th>\n",
       "      <th>meta.character_name</th>\n",
       "      <th>id_replied_to</th>\n",
       "      <th>timestamp_replied_to</th>\n",
       "      <th>text_replied_to</th>\n",
       "      <th>speaker_replied_to</th>\n",
       "      <th>reply_to_replied_to</th>\n",
       "      <th>conversation_id_replied_to</th>\n",
       "      <th>meta.movie_id_replied_to</th>\n",
       "      <th>meta.parsed_replied_to</th>\n",
       "      <th>vectors_replied_to</th>\n",
       "      <th>meta.character_name_replied_to</th>\n",
       "    </tr>\n",
       "  </thead>\n",
       "  <tbody>\n",
       "    <tr>\n",
       "      <th>0</th>\n",
       "      <td>L621130</td>\n",
       "      <td>None</td>\n",
       "      <td>Wow!  Cool!</td>\n",
       "      <td>u8534</td>\n",
       "      <td>None</td>\n",
       "      <td>L621130</td>\n",
       "      <td>m579</td>\n",
       "      <td>[{'rt': 3, 'toks': [{'tok': 'Wow', 'tag': 'UH'...</td>\n",
       "      <td>[]</td>\n",
       "      <td>ANDY</td>\n",
       "      <td>NaN</td>\n",
       "      <td>NaN</td>\n",
       "      <td>NaN</td>\n",
       "      <td>NaN</td>\n",
       "      <td>NaN</td>\n",
       "      <td>NaN</td>\n",
       "      <td>NaN</td>\n",
       "      <td>NaN</td>\n",
       "      <td>NaN</td>\n",
       "      <td>NaN</td>\n",
       "    </tr>\n",
       "    <tr>\n",
       "      <th>1</th>\n",
       "      <td>L621132</td>\n",
       "      <td>None</td>\n",
       "      <td>Oh, this looks GREAT, Mom!</td>\n",
       "      <td>u8534</td>\n",
       "      <td>L621131</td>\n",
       "      <td>L621130</td>\n",
       "      <td>m579</td>\n",
       "      <td>[{'rt': 3, 'toks': [{'tok': 'Oh', 'tag': 'UH',...</td>\n",
       "      <td>[]</td>\n",
       "      <td>ANDY</td>\n",
       "      <td>L621131</td>\n",
       "      <td>None</td>\n",
       "      <td>Whadda ya think?</td>\n",
       "      <td>u8540</td>\n",
       "      <td>L621130</td>\n",
       "      <td>L621130</td>\n",
       "      <td>m579</td>\n",
       "      <td>[{'rt': 2, 'toks': [{'tok': 'Whadda', 'tag': '...</td>\n",
       "      <td>[]</td>\n",
       "      <td>MRS. DAVIS</td>\n",
       "    </tr>\n",
       "    <tr>\n",
       "      <th>2</th>\n",
       "      <td>L621133</td>\n",
       "      <td>None</td>\n",
       "      <td>Can we leave this up 'til we move?</td>\n",
       "      <td>u8534</td>\n",
       "      <td>None</td>\n",
       "      <td>L621133</td>\n",
       "      <td>m579</td>\n",
       "      <td>[{'rt': 2, 'toks': [{'tok': 'Can', 'tag': 'MD'...</td>\n",
       "      <td>[]</td>\n",
       "      <td>ANDY</td>\n",
       "      <td>NaN</td>\n",
       "      <td>NaN</td>\n",
       "      <td>NaN</td>\n",
       "      <td>NaN</td>\n",
       "      <td>NaN</td>\n",
       "      <td>NaN</td>\n",
       "      <td>NaN</td>\n",
       "      <td>NaN</td>\n",
       "      <td>NaN</td>\n",
       "      <td>NaN</td>\n",
       "    </tr>\n",
       "    <tr>\n",
       "      <th>3</th>\n",
       "      <td>L621135</td>\n",
       "      <td>None</td>\n",
       "      <td>Yeah!</td>\n",
       "      <td>u8534</td>\n",
       "      <td>L621134</td>\n",
       "      <td>L621133</td>\n",
       "      <td>m579</td>\n",
       "      <td>[{'rt': 0, 'toks': [{'tok': 'Yeah', 'tag': 'UH...</td>\n",
       "      <td>[]</td>\n",
       "      <td>ANDY</td>\n",
       "      <td>L621134</td>\n",
       "      <td>None</td>\n",
       "      <td>Well, sure, we can leave it up.</td>\n",
       "      <td>u8540</td>\n",
       "      <td>L621133</td>\n",
       "      <td>L621133</td>\n",
       "      <td>m579</td>\n",
       "      <td>[{'rt': 6, 'toks': [{'tok': 'Well', 'tag': 'UH...</td>\n",
       "      <td>[]</td>\n",
       "      <td>MRS. DAVIS</td>\n",
       "    </tr>\n",
       "    <tr>\n",
       "      <th>4</th>\n",
       "      <td>L621137</td>\n",
       "      <td>None</td>\n",
       "      <td>Okay.</td>\n",
       "      <td>u8534</td>\n",
       "      <td>L621136</td>\n",
       "      <td>L621133</td>\n",
       "      <td>m579</td>\n",
       "      <td>[{'rt': 0, 'toks': [{'tok': 'Okay', 'tag': 'UH...</td>\n",
       "      <td>[]</td>\n",
       "      <td>ANDY</td>\n",
       "      <td>L621136</td>\n",
       "      <td>None</td>\n",
       "      <td>Now go get Molly.  Your friends are going to b...</td>\n",
       "      <td>u8540</td>\n",
       "      <td>L621135</td>\n",
       "      <td>L621133</td>\n",
       "      <td>m579</td>\n",
       "      <td>[{'rt': 1, 'toks': [{'tok': 'Now', 'tag': 'RB'...</td>\n",
       "      <td>[]</td>\n",
       "      <td>MRS. DAVIS</td>\n",
       "    </tr>\n",
       "    <tr>\n",
       "      <th>...</th>\n",
       "      <td>...</td>\n",
       "      <td>...</td>\n",
       "      <td>...</td>\n",
       "      <td>...</td>\n",
       "      <td>...</td>\n",
       "      <td>...</td>\n",
       "      <td>...</td>\n",
       "      <td>...</td>\n",
       "      <td>...</td>\n",
       "      <td>...</td>\n",
       "      <td>...</td>\n",
       "      <td>...</td>\n",
       "      <td>...</td>\n",
       "      <td>...</td>\n",
       "      <td>...</td>\n",
       "      <td>...</td>\n",
       "      <td>...</td>\n",
       "      <td>...</td>\n",
       "      <td>...</td>\n",
       "      <td>...</td>\n",
       "    </tr>\n",
       "    <tr>\n",
       "      <th>397</th>\n",
       "      <td>L621606</td>\n",
       "      <td>None</td>\n",
       "      <td>Hey!!</td>\n",
       "      <td>u8538</td>\n",
       "      <td>None</td>\n",
       "      <td>L621606</td>\n",
       "      <td>m579</td>\n",
       "      <td>[{'rt': 0, 'toks': [{'tok': 'Hey', 'tag': 'UH'...</td>\n",
       "      <td>[]</td>\n",
       "      <td>HANNAH</td>\n",
       "      <td>NaN</td>\n",
       "      <td>NaN</td>\n",
       "      <td>NaN</td>\n",
       "      <td>NaN</td>\n",
       "      <td>NaN</td>\n",
       "      <td>NaN</td>\n",
       "      <td>NaN</td>\n",
       "      <td>NaN</td>\n",
       "      <td>NaN</td>\n",
       "      <td>NaN</td>\n",
       "    </tr>\n",
       "    <tr>\n",
       "      <th>398</th>\n",
       "      <td>L621608</td>\n",
       "      <td>None</td>\n",
       "      <td>No she's NOT --</td>\n",
       "      <td>u8538</td>\n",
       "      <td>L621607</td>\n",
       "      <td>L621606</td>\n",
       "      <td>m579</td>\n",
       "      <td>[{'rt': 2, 'toks': [{'tok': 'No', 'tag': 'UH',...</td>\n",
       "      <td>[]</td>\n",
       "      <td>HANNAH</td>\n",
       "      <td>L621607</td>\n",
       "      <td>None</td>\n",
       "      <td>She's sick!</td>\n",
       "      <td>u8543</td>\n",
       "      <td>L621606</td>\n",
       "      <td>L621606</td>\n",
       "      <td>m579</td>\n",
       "      <td>[{'rt': 1, 'toks': [{'tok': 'She', 'tag': 'PRP...</td>\n",
       "      <td>[]</td>\n",
       "      <td>SID</td>\n",
       "    </tr>\n",
       "    <tr>\n",
       "      <th>399</th>\n",
       "      <td>L621610</td>\n",
       "      <td>None</td>\n",
       "      <td>NO-O-O... Don't touch her!  NO!</td>\n",
       "      <td>u8538</td>\n",
       "      <td>L621609</td>\n",
       "      <td>L621606</td>\n",
       "      <td>m579</td>\n",
       "      <td>[{'rt': 8, 'toks': [{'tok': 'NO', 'tag': 'JJ',...</td>\n",
       "      <td>[]</td>\n",
       "      <td>HANNAH</td>\n",
       "      <td>L621609</td>\n",
       "      <td>None</td>\n",
       "      <td>I'll have to perform one of my...operations!</td>\n",
       "      <td>u8543</td>\n",
       "      <td>L621608</td>\n",
       "      <td>L621606</td>\n",
       "      <td>m579</td>\n",
       "      <td>[{'rt': 2, 'toks': [{'tok': 'I', 'tag': 'PRP',...</td>\n",
       "      <td>[]</td>\n",
       "      <td>SID</td>\n",
       "    </tr>\n",
       "    <tr>\n",
       "      <th>400</th>\n",
       "      <td>L621615</td>\n",
       "      <td>None</td>\n",
       "      <td>Sid, give her back!  Give her back now!  I'm t...</td>\n",
       "      <td>u8538</td>\n",
       "      <td>None</td>\n",
       "      <td>L621615</td>\n",
       "      <td>m579</td>\n",
       "      <td>[{'rt': 2, 'toks': [{'tok': 'Sid', 'tag': 'NNP...</td>\n",
       "      <td>[]</td>\n",
       "      <td>HANNAH</td>\n",
       "      <td>NaN</td>\n",
       "      <td>NaN</td>\n",
       "      <td>NaN</td>\n",
       "      <td>NaN</td>\n",
       "      <td>NaN</td>\n",
       "      <td>NaN</td>\n",
       "      <td>NaN</td>\n",
       "      <td>NaN</td>\n",
       "      <td>NaN</td>\n",
       "      <td>NaN</td>\n",
       "    </tr>\n",
       "    <tr>\n",
       "      <th>401</th>\n",
       "      <td>L621622</td>\n",
       "      <td>None</td>\n",
       "      <td>MOM!!  MOM!!</td>\n",
       "      <td>u8538</td>\n",
       "      <td>None</td>\n",
       "      <td>L621622</td>\n",
       "      <td>m579</td>\n",
       "      <td>[{'rt': 0, 'toks': [{'tok': 'MOM', 'tag': 'NNP...</td>\n",
       "      <td>[]</td>\n",
       "      <td>HANNAH</td>\n",
       "      <td>NaN</td>\n",
       "      <td>NaN</td>\n",
       "      <td>NaN</td>\n",
       "      <td>NaN</td>\n",
       "      <td>NaN</td>\n",
       "      <td>NaN</td>\n",
       "      <td>NaN</td>\n",
       "      <td>NaN</td>\n",
       "      <td>NaN</td>\n",
       "      <td>NaN</td>\n",
       "    </tr>\n",
       "  </tbody>\n",
       "</table>\n",
       "<p>402 rows × 20 columns</p>\n",
       "</div>"
      ],
      "text/plain": [
       "          id timestamp                                               text  \\\n",
       "0    L621130      None                                        Wow!  Cool!   \n",
       "1    L621132      None                         Oh, this looks GREAT, Mom!   \n",
       "2    L621133      None                 Can we leave this up 'til we move?   \n",
       "3    L621135      None                                              Yeah!   \n",
       "4    L621137      None                                              Okay.   \n",
       "..       ...       ...                                                ...   \n",
       "397  L621606      None                                              Hey!!   \n",
       "398  L621608      None                                    No she's NOT --   \n",
       "399  L621610      None                    NO-O-O... Don't touch her!  NO!   \n",
       "400  L621615      None  Sid, give her back!  Give her back now!  I'm t...   \n",
       "401  L621622      None                                       MOM!!  MOM!!   \n",
       "\n",
       "    speaker reply_to conversation_id meta.movie_id  \\\n",
       "0     u8534     None         L621130          m579   \n",
       "1     u8534  L621131         L621130          m579   \n",
       "2     u8534     None         L621133          m579   \n",
       "3     u8534  L621134         L621133          m579   \n",
       "4     u8534  L621136         L621133          m579   \n",
       "..      ...      ...             ...           ...   \n",
       "397   u8538     None         L621606          m579   \n",
       "398   u8538  L621607         L621606          m579   \n",
       "399   u8538  L621609         L621606          m579   \n",
       "400   u8538     None         L621615          m579   \n",
       "401   u8538     None         L621622          m579   \n",
       "\n",
       "                                           meta.parsed vectors  \\\n",
       "0    [{'rt': 3, 'toks': [{'tok': 'Wow', 'tag': 'UH'...      []   \n",
       "1    [{'rt': 3, 'toks': [{'tok': 'Oh', 'tag': 'UH',...      []   \n",
       "2    [{'rt': 2, 'toks': [{'tok': 'Can', 'tag': 'MD'...      []   \n",
       "3    [{'rt': 0, 'toks': [{'tok': 'Yeah', 'tag': 'UH...      []   \n",
       "4    [{'rt': 0, 'toks': [{'tok': 'Okay', 'tag': 'UH...      []   \n",
       "..                                                 ...     ...   \n",
       "397  [{'rt': 0, 'toks': [{'tok': 'Hey', 'tag': 'UH'...      []   \n",
       "398  [{'rt': 2, 'toks': [{'tok': 'No', 'tag': 'UH',...      []   \n",
       "399  [{'rt': 8, 'toks': [{'tok': 'NO', 'tag': 'JJ',...      []   \n",
       "400  [{'rt': 2, 'toks': [{'tok': 'Sid', 'tag': 'NNP...      []   \n",
       "401  [{'rt': 0, 'toks': [{'tok': 'MOM', 'tag': 'NNP...      []   \n",
       "\n",
       "    meta.character_name id_replied_to timestamp_replied_to  \\\n",
       "0                  ANDY           NaN                  NaN   \n",
       "1                  ANDY       L621131                 None   \n",
       "2                  ANDY           NaN                  NaN   \n",
       "3                  ANDY       L621134                 None   \n",
       "4                  ANDY       L621136                 None   \n",
       "..                  ...           ...                  ...   \n",
       "397              HANNAH           NaN                  NaN   \n",
       "398              HANNAH       L621607                 None   \n",
       "399              HANNAH       L621609                 None   \n",
       "400              HANNAH           NaN                  NaN   \n",
       "401              HANNAH           NaN                  NaN   \n",
       "\n",
       "                                       text_replied_to speaker_replied_to  \\\n",
       "0                                                  NaN                NaN   \n",
       "1                                     Whadda ya think?              u8540   \n",
       "2                                                  NaN                NaN   \n",
       "3                      Well, sure, we can leave it up.              u8540   \n",
       "4    Now go get Molly.  Your friends are going to b...              u8540   \n",
       "..                                                 ...                ...   \n",
       "397                                                NaN                NaN   \n",
       "398                                        She's sick!              u8543   \n",
       "399       I'll have to perform one of my...operations!              u8543   \n",
       "400                                                NaN                NaN   \n",
       "401                                                NaN                NaN   \n",
       "\n",
       "    reply_to_replied_to conversation_id_replied_to meta.movie_id_replied_to  \\\n",
       "0                   NaN                        NaN                      NaN   \n",
       "1               L621130                    L621130                     m579   \n",
       "2                   NaN                        NaN                      NaN   \n",
       "3               L621133                    L621133                     m579   \n",
       "4               L621135                    L621133                     m579   \n",
       "..                  ...                        ...                      ...   \n",
       "397                 NaN                        NaN                      NaN   \n",
       "398             L621606                    L621606                     m579   \n",
       "399             L621608                    L621606                     m579   \n",
       "400                 NaN                        NaN                      NaN   \n",
       "401                 NaN                        NaN                      NaN   \n",
       "\n",
       "                                meta.parsed_replied_to vectors_replied_to  \\\n",
       "0                                                  NaN                NaN   \n",
       "1    [{'rt': 2, 'toks': [{'tok': 'Whadda', 'tag': '...                 []   \n",
       "2                                                  NaN                NaN   \n",
       "3    [{'rt': 6, 'toks': [{'tok': 'Well', 'tag': 'UH...                 []   \n",
       "4    [{'rt': 1, 'toks': [{'tok': 'Now', 'tag': 'RB'...                 []   \n",
       "..                                                 ...                ...   \n",
       "397                                                NaN                NaN   \n",
       "398  [{'rt': 1, 'toks': [{'tok': 'She', 'tag': 'PRP...                 []   \n",
       "399  [{'rt': 2, 'toks': [{'tok': 'I', 'tag': 'PRP',...                 []   \n",
       "400                                                NaN                NaN   \n",
       "401                                                NaN                NaN   \n",
       "\n",
       "    meta.character_name_replied_to  \n",
       "0                              NaN  \n",
       "1                       MRS. DAVIS  \n",
       "2                              NaN  \n",
       "3                       MRS. DAVIS  \n",
       "4                       MRS. DAVIS  \n",
       "..                             ...  \n",
       "397                            NaN  \n",
       "398                            SID  \n",
       "399                            SID  \n",
       "400                            NaN  \n",
       "401                            NaN  \n",
       "\n",
       "[402 rows x 20 columns]"
      ]
     },
     "execution_count": 70,
     "metadata": {},
     "output_type": "execute_result"
    }
   ],
   "source": [
    "utt_speaker = utt.merge(\n",
    "    speakers['meta.character_name'], left_on='speaker', right_index=True\n",
    ")\n",
    "utt_speaker = utt_speaker.merge(\n",
    "    utt_speaker, left_on='reply_to', right_on='id', how='left', suffixes=(None, '_replied_to')\n",
    ")\n",
    "\n",
    "utt_speaker"
   ]
  },
  {
   "cell_type": "code",
   "execution_count": 71,
   "metadata": {},
   "outputs": [],
   "source": [
    "from distill_bert import DistillBert\n",
    "from classifier import SentimentClassifier"
   ]
  },
  {
   "cell_type": "code",
   "execution_count": 72,
   "metadata": {},
   "outputs": [
    {
     "name": "stderr",
     "output_type": "stream",
     "text": [
      "Some weights of the model checkpoint at distilbert-base-uncased were not used when initializing DistilBertModel: ['vocab_projector.bias', 'vocab_transform.weight', 'vocab_projector.weight', 'vocab_layer_norm.bias', 'vocab_transform.bias', 'vocab_layer_norm.weight']\n",
      "- This IS expected if you are initializing DistilBertModel from the checkpoint of a model trained on another task or with another architecture (e.g. initializing a BertForSequenceClassification model from a BertForPreTraining model).\n",
      "- This IS NOT expected if you are initializing DistilBertModel from the checkpoint of a model that you expect to be exactly identical (initializing a BertForSequenceClassification model from a BertForSequenceClassification model).\n"
     ]
    }
   ],
   "source": [
    "db = DistillBert()"
   ]
  },
  {
   "cell_type": "code",
   "execution_count": 73,
   "metadata": {},
   "outputs": [],
   "source": [
    "df = utt_speaker.copy().sort_values(by='id').reset_index(drop=True)\n",
    "df['order'] = np.arange(len(df))"
   ]
  },
  {
   "cell_type": "code",
   "execution_count": 74,
   "metadata": {},
   "outputs": [
    {
     "name": "stdout",
     "output_type": "stream",
     "text": [
      "batch number 0 out of 0 done!\n"
     ]
    }
   ],
   "source": [
    "f = db.transform(df)"
   ]
  },
  {
   "cell_type": "code",
   "execution_count": 75,
   "metadata": {},
   "outputs": [
    {
     "name": "stdout",
     "output_type": "stream",
     "text": [
      "loading model\n",
      "loading model\n",
      "loading model\n"
     ]
    }
   ],
   "source": [
    "model_A = SentimentClassifier()\n",
    "model_A.load(Path('boosters')/'A')\n",
    "\n",
    "model_V = SentimentClassifier()\n",
    "model_V.load(Path('boosters')/'V')\n",
    "\n",
    "model_D = SentimentClassifier()\n",
    "model_D.load(Path('boosters')/'D')"
   ]
  },
  {
   "cell_type": "code",
   "execution_count": 76,
   "metadata": {},
   "outputs": [],
   "source": [
    "df['A_pred'] = model_A.predict(f)\n",
    "df['V_pred'] = model_V.predict(f)\n",
    "df['D_pred'] = model_D.predict(f)"
   ]
  },
  {
   "cell_type": "code",
   "execution_count": 141,
   "metadata": {
    "scrolled": true,
    "tags": []
   },
   "outputs": [
    {
     "data": {
      "text/html": [
       "<div>\n",
       "<style scoped>\n",
       "    .dataframe tbody tr th:only-of-type {\n",
       "        vertical-align: middle;\n",
       "    }\n",
       "\n",
       "    .dataframe tbody tr th {\n",
       "        vertical-align: top;\n",
       "    }\n",
       "\n",
       "    .dataframe thead th {\n",
       "        text-align: right;\n",
       "    }\n",
       "</style>\n",
       "<table border=\"1\" class=\"dataframe\">\n",
       "  <thead>\n",
       "    <tr style=\"text-align: right;\">\n",
       "      <th></th>\n",
       "      <th>id</th>\n",
       "      <th>timestamp</th>\n",
       "      <th>text</th>\n",
       "      <th>speaker</th>\n",
       "      <th>reply_to</th>\n",
       "      <th>conversation_id</th>\n",
       "      <th>meta.movie_id</th>\n",
       "      <th>meta.parsed</th>\n",
       "      <th>vectors</th>\n",
       "      <th>meta.character_name</th>\n",
       "      <th>...</th>\n",
       "      <th>reply_to_replied_to</th>\n",
       "      <th>conversation_id_replied_to</th>\n",
       "      <th>meta.movie_id_replied_to</th>\n",
       "      <th>meta.parsed_replied_to</th>\n",
       "      <th>vectors_replied_to</th>\n",
       "      <th>meta.character_name_replied_to</th>\n",
       "      <th>order</th>\n",
       "      <th>A_pred</th>\n",
       "      <th>V_pred</th>\n",
       "      <th>D_pred</th>\n",
       "    </tr>\n",
       "  </thead>\n",
       "  <tbody>\n",
       "    <tr>\n",
       "      <th>0</th>\n",
       "      <td>L621130</td>\n",
       "      <td>None</td>\n",
       "      <td>wow cool</td>\n",
       "      <td>u8534</td>\n",
       "      <td>None</td>\n",
       "      <td>L621130</td>\n",
       "      <td>m579</td>\n",
       "      <td>[{'rt': 3, 'toks': [{'tok': 'Wow', 'tag': 'UH'...</td>\n",
       "      <td>[]</td>\n",
       "      <td>ANDY</td>\n",
       "      <td>...</td>\n",
       "      <td>NaN</td>\n",
       "      <td>NaN</td>\n",
       "      <td>NaN</td>\n",
       "      <td>NaN</td>\n",
       "      <td>NaN</td>\n",
       "      <td>NaN</td>\n",
       "      <td>0</td>\n",
       "      <td>3.397855</td>\n",
       "      <td>3.679753</td>\n",
       "      <td>3.189299</td>\n",
       "    </tr>\n",
       "  </tbody>\n",
       "</table>\n",
       "<p>1 rows × 24 columns</p>\n",
       "</div>"
      ],
      "text/plain": [
       "        id timestamp      text speaker reply_to conversation_id meta.movie_id  \\\n",
       "0  L621130      None  wow cool   u8534     None         L621130          m579   \n",
       "\n",
       "                                         meta.parsed vectors  \\\n",
       "0  [{'rt': 3, 'toks': [{'tok': 'Wow', 'tag': 'UH'...      []   \n",
       "\n",
       "  meta.character_name  ... reply_to_replied_to conversation_id_replied_to  \\\n",
       "0                ANDY  ...                 NaN                        NaN   \n",
       "\n",
       "  meta.movie_id_replied_to meta.parsed_replied_to vectors_replied_to  \\\n",
       "0                      NaN                    NaN                NaN   \n",
       "\n",
       "  meta.character_name_replied_to order    A_pred    V_pred    D_pred  \n",
       "0                            NaN     0  3.397855  3.679753  3.189299  \n",
       "\n",
       "[1 rows x 24 columns]"
      ]
     },
     "execution_count": 141,
     "metadata": {},
     "output_type": "execute_result"
    }
   ],
   "source": [
    "df.head(1)"
   ]
  },
  {
   "cell_type": "markdown",
   "metadata": {},
   "source": [
    "# Analisi del protagonista"
   ]
  },
  {
   "cell_type": "code",
   "execution_count": 78,
   "metadata": {},
   "outputs": [
    {
     "data": {
      "text/plain": [
       "speaker\n",
       "u8535      8\n",
       "u8538      9\n",
       "u8542      9\n",
       "u8537     15\n",
       "u8543     16\n",
       "u8544     18\n",
       "u8540     22\n",
       "u8541     22\n",
       "u8534     27\n",
       "u8539     32\n",
       "u8536     75\n",
       "u8545    149\n",
       "Name: id, dtype: int64"
      ]
     },
     "execution_count": 78,
     "metadata": {},
     "output_type": "execute_result"
    }
   ],
   "source": [
    "df.groupby('speaker')['id'].count().sort_values()"
   ]
  },
  {
   "cell_type": "code",
   "execution_count": 79,
   "metadata": {},
   "outputs": [],
   "source": [
    "spk_id = 'u8545'\n",
    "df_spk = df[df.speaker==spk_id].fillna('None')"
   ]
  },
  {
   "cell_type": "code",
   "execution_count": 80,
   "metadata": {},
   "outputs": [
    {
     "data": {
      "text/plain": [
       "<AxesSubplot:ylabel='Density'>"
      ]
     },
     "execution_count": 80,
     "metadata": {},
     "output_type": "execute_result"
    },
    {
     "data": {
      "image/png": "[encoded data removed]",
      "text/plain": [
       "<Figure size 432x288 with 1 Axes>"
      ]
     },
     "metadata": {
      "needs_background": "light"
     },
     "output_type": "display_data"
    }
   ],
   "source": [
    "df_spk[['A_pred', 'V_pred', 'D_pred']].plot.density()"
   ]
  },
  {
   "cell_type": "code",
   "execution_count": 81,
   "metadata": {},
   "outputs": [
    {
     "data": {
      "text/plain": [
       "<matplotlib.legend.Legend at 0x7fe73e139940>"
      ]
     },
     "execution_count": 81,
     "metadata": {},
     "output_type": "execute_result"
    },
    {
     "data": {
      "image/png": "[encoded data removed]",
      "text/plain": [
       "<Figure size 432x288 with 1 Axes>"
      ]
     },
     "metadata": {
      "needs_background": "light"
     },
     "output_type": "display_data"
    }
   ],
   "source": [
    "trend = np.polyfit(df_spk.order, df_spk.A_pred, 10)\n",
    "trendpoly = np.poly1d(trend) \n",
    "plt.plot(df_spk.order,trendpoly(df_spk.order), label='A')\n",
    "\n",
    "trend = np.polyfit(df_spk.order, df_spk.V_pred, 10)\n",
    "trendpoly = np.poly1d(trend) \n",
    "plt.plot(df_spk.order,trendpoly(df_spk.order), label='V')\n",
    "\n",
    "trend = np.polyfit(df_spk.order, df_spk.D_pred, 10)\n",
    "trendpoly = np.poly1d(trend) \n",
    "plt.plot(df_spk.order,trendpoly(df_spk.order), label='D')\n",
    "\n",
    "plt.legend()"
   ]
  },
  {
   "cell_type": "code",
   "execution_count": 142,
   "metadata": {},
   "outputs": [
    {
     "name": "stdout",
     "output_type": "stream",
     "text": [
      "WOODY: Well, thanks for the ride.\n",
      "    BUZZ: Look out!!\n"
     ]
    }
   ],
   "source": [
    "# extract full conversation ith maximum areousal score\n",
    "max_index = df_spk.iloc[df_spk.V_pred.argmax()]\n",
    "convo = corpus.get_conversation(max_index.conversation_id)\n",
    "convo.print_conversation_structure(lambda utt: f\"{utt.speaker.meta['character_name']}: {utt.text}\")"
   ]
  },
  {
   "cell_type": "code",
   "execution_count": 140,
   "metadata": {},
   "outputs": [
    {
     "name": "stdout",
     "output_type": "stream",
     "text": [
      "BUZZ: Why is that soldier strapped to an explosive device?\n",
      "    WOODY: That's why.  Sid.\n",
      "        BUZZ: Sure is a hairy fellah.\n",
      "            WOODY: No!  No, that's Scud, you idiot!\n"
     ]
    }
   ],
   "source": [
    "min_index = df_spk.iloc[df_spk.V_pred.argmin()]\n",
    "convo = corpus.get_conversation(min_index.conversation_id)\n",
    "convo.print_conversation_structure(lambda utt: f\"{utt.speaker.meta['character_name']}: {utt.text}\")"
   ]
  },
  {
   "cell_type": "markdown",
   "metadata": {},
   "source": [
    "# Analisi interazione protagonista e personaggio secondario"
   ]
  },
  {
   "cell_type": "code",
   "execution_count": 95,
   "metadata": {},
   "outputs": [
    {
     "data": {
      "text/plain": [
       "['None',\n",
       " 'BUZZ',\n",
       " 'MR. POTATO HEAD',\n",
       " 'SLINKY',\n",
       " 'REX',\n",
       " 'SARGENT',\n",
       " 'HAMM',\n",
       " 'BO PEEP',\n",
       " 'SID']"
      ]
     },
     "execution_count": 95,
     "metadata": {},
     "output_type": "execute_result"
    }
   ],
   "source": [
    "cops = df_spk.groupby('meta.character_name_replied_to')['id'].count().sort_values(ascending=False).index.tolist()\n",
    "cops"
   ]
  },
  {
   "cell_type": "code",
   "execution_count": 113,
   "metadata": {},
   "outputs": [
    {
     "name": "stdout",
     "output_type": "stream",
     "text": [
      "BUZZ\n",
      "          A_pred     V_pred     D_pred\n",
      "count  46.000000  46.000000  46.000000\n",
      "mean    3.151775   2.937122   3.107535\n",
      "std     0.110864   0.222684   0.059084\n",
      "min     2.941394   2.476942   2.994681\n",
      "25%     3.071104   2.788550   3.066408\n",
      "50%     3.157688   2.967725   3.109996\n",
      "75%     3.228110   3.073294   3.146720\n",
      "max     3.390845   3.636084   3.228661\n",
      "MR. POTATO HEAD\n",
      "         A_pred    V_pred    D_pred\n",
      "count  9.000000  9.000000  9.000000\n",
      "mean   3.176285  2.941847  3.150605\n",
      "std    0.060728  0.179195  0.058075\n",
      "min    3.058962  2.699915  3.069773\n",
      "25%    3.157521  2.806047  3.100812\n",
      "50%    3.177563  2.925605  3.179781\n",
      "75%    3.224855  3.049597  3.199027\n",
      "max    3.240128  3.222777  3.219941\n",
      "SLINKY\n",
      "         A_pred    V_pred    D_pred\n",
      "count  8.000000  8.000000  8.000000\n",
      "mean   3.106810  2.929097  3.070388\n",
      "std    0.106525  0.152126  0.071064\n",
      "min    2.940752  2.630243  2.946182\n",
      "25%    3.033929  2.880990  3.040068\n",
      "50%    3.135503  2.927660  3.077001\n",
      "75%    3.175771  3.021824  3.121797\n",
      "max    3.239754  3.122469  3.162976\n",
      "REX\n",
      "         A_pred    V_pred    D_pred\n",
      "count  6.000000  6.000000  6.000000\n",
      "mean   3.136254  3.031158  3.118395\n",
      "std    0.095716  0.103046  0.049561\n",
      "min    3.004614  2.897175  3.021339\n",
      "25%    3.067198  2.959110  3.124686\n",
      "50%    3.155231  3.031433  3.127824\n",
      "75%    3.195532  3.115216  3.146278\n",
      "max    3.255629  3.148762  3.157311\n",
      "SARGENT\n",
      "         A_pred    V_pred    D_pred\n",
      "count  5.000000  5.000000  5.000000\n",
      "mean   3.053169  2.985429  3.042282\n",
      "std    0.132240  0.219122  0.062749\n",
      "min    2.901353  2.740700  2.960487\n",
      "25%    2.919392  2.884871  3.020940\n",
      "50%    3.114210  2.936186  3.028025\n",
      "75%    3.159611  3.038126  3.073505\n",
      "max    3.171279  3.327263  3.128455\n",
      "HAMM\n",
      "         A_pred    V_pred    D_pred\n",
      "count  4.000000  4.000000  4.000000\n",
      "mean   3.119973  3.006842  3.110211\n",
      "std    0.146017  0.142564  0.043012\n",
      "min    2.925832  2.828389  3.063861\n",
      "25%    3.067193  2.962576  3.092344\n",
      "50%    3.139078  3.010817  3.104563\n",
      "75%    3.191858  3.055083  3.122430\n",
      "max    3.275906  3.177346  3.167858\n",
      "BO PEEP\n",
      "         A_pred    V_pred    D_pred\n",
      "count  3.000000  3.000000  3.000000\n",
      "mean   3.246733  3.194043  3.100613\n",
      "std    0.172076  0.278823  0.030524\n",
      "min    3.069055  2.948000  3.074588\n",
      "25%    3.163800  3.042616  3.083814\n",
      "50%    3.258545  3.137233  3.093040\n",
      "75%    3.335572  3.317065  3.113625\n",
      "max    3.412598  3.496897  3.134210\n",
      "SID\n",
      "         A_pred    V_pred    D_pred\n",
      "count  3.000000  3.000000  3.000000\n",
      "mean   3.105779  3.050502  3.134621\n",
      "std    0.135027  0.040800  0.089947\n",
      "min    2.981031  3.012952  3.071149\n",
      "25%    3.034093  3.028794  3.083155\n",
      "50%    3.087156  3.044637  3.095161\n",
      "75%    3.168153  3.069277  3.166357\n",
      "max    3.249151  3.093917  3.237553\n"
     ]
    },
    {
     "data": {
      "image/png": "[encoded data removed]",
      "text/plain": [
       "<Figure size 432x288 with 1 Axes>"
      ]
     },
     "metadata": {
      "needs_background": "light"
     },
     "output_type": "display_data"
    },
    {
     "data": {
      "image/png": "[encoded data removed]",
      "text/plain": [
       "<Figure size 432x288 with 1 Axes>"
      ]
     },
     "metadata": {
      "needs_background": "light"
     },
     "output_type": "display_data"
    },
    {
     "data": {
      "image/png": "[encoded data removed]",
      "text/plain": [
       "<Figure size 432x288 with 1 Axes>"
      ]
     },
     "metadata": {
      "needs_background": "light"
     },
     "output_type": "display_data"
    },
    {
     "data": {
      "image/png": "[encoded data removed]",
      "text/plain": [
       "<Figure size 432x288 with 1 Axes>"
      ]
     },
     "metadata": {
      "needs_background": "light"
     },
     "output_type": "display_data"
    },
    {
     "data": {
      "image/png": "[encoded data removed]",
      "text/plain": [
       "<Figure size 432x288 with 1 Axes>"
      ]
     },
     "metadata": {
      "needs_background": "light"
     },
     "output_type": "display_data"
    },
    {
     "data": {
      "image/png": "[encoded data removed]",
      "text/plain": [
       "<Figure size 432x288 with 1 Axes>"
      ]
     },
     "metadata": {
      "needs_background": "light"
     },
     "output_type": "display_data"
    },
    {
     "data": {
      "image/png": "[encoded data removed]",
      "text/plain": [
       "<Figure size 432x288 with 1 Axes>"
      ]
     },
     "metadata": {
      "needs_background": "light"
     },
     "output_type": "display_data"
    },
    {
     "data": {
      "image/png": "[encoded data removed]",
      "text/plain": [
       "<Figure size 432x288 with 1 Axes>"
      ]
     },
     "metadata": {
      "needs_background": "light"
     },
     "output_type": "display_data"
    }
   ],
   "source": [
    "count = 0\n",
    "for cop in cops:\n",
    "    if cop != 'None':\n",
    "        count += 1\n",
    "        df_cop = df_spk[df_spk['meta.character_name_replied_to']==cop].copy()\n",
    "        df_cop[['A_pred', 'V_pred', 'D_pred']].plot.density()\n",
    "        plt.title(cop)\n",
    "        plt.xlim(2.0, 4.0)\n",
    "        \n",
    "        d = df_cop[['A_pred', 'V_pred', 'D_pred']].describe()\n",
    "        print(cop)\n",
    "        print(d.to_string())"
   ]
  },
  {
   "cell_type": "code",
   "execution_count": null,
   "metadata": {},
   "outputs": [],
   "source": []
  }
 ],
 "metadata": {
  "kernelspec": {
   "display_name": "Python 3",
   "language": "python",
   "name": "python3"
  },
  "language_info": {
   "codemirror_mode": {
    "name": "ipython",
    "version": 3
   },
   "file_extension": ".py",
   "mimetype": "text/x-python",
   "name": "python",
   "nbconvert_exporter": "python",
   "pygments_lexer": "ipython3",
   "version": "3.8.5"
  },
  "latex_envs": {
   "LaTeX_envs_menu_present": true,
   "autoclose": false,
   "autocomplete": true,
   "bibliofile": "biblio.bib",
   "cite_by": "apalike",
   "current_citInitial": 1,
   "eqLabelWithNumbers": true,
   "eqNumInitial": 1,
   "hotkeys": {
    "equation": "Ctrl-E",
    "itemize": "Ctrl-I"
   },
   "labels_anchors": false,
   "latex_user_defs": false,
   "report_style_numbering": false,
   "user_envs_cfg": false
  }
 },
 "nbformat": 4,
 "nbformat_minor": 4
}
